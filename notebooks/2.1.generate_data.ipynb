{
 "cells": [
  {
   "cell_type": "code",
   "execution_count": 1,
   "id": "perfect-announcement",
   "metadata": {},
   "outputs": [],
   "source": [
    "# Reload all src modules every time before executing the Python code typed\n",
    "%load_ext autoreload\n",
    "%autoreload 2"
   ]
  },
  {
   "cell_type": "markdown",
   "id": "union-effects",
   "metadata": {},
   "source": [
    "bufferdensity maps of tweets??"
   ]
  },
  {
   "cell_type": "code",
   "execution_count": 2,
   "id": "ecological-potential",
   "metadata": {},
   "outputs": [
    {
     "data": {
      "text/plain": [
       "True"
      ]
     },
     "execution_count": 2,
     "metadata": {},
     "output_type": "execute_result"
    }
   ],
   "source": [
    "import os\n",
    "import io\n",
    "import pickle\n",
    "import re\n",
    "import json\n",
    "import gzip\n",
    "import cProfile\n",
    "from tqdm import tqdm\n",
    "from pathlib import Path\n",
    "import matplotlib.pyplot as plt\n",
    "import ray\n",
    "import numpy as np\n",
    "import geopandas as geopd\n",
    "import pandas as pd\n",
    "import src.data.access as data_access\n",
    "import src.utils.files as file_utils\n",
    "import src.utils.geometry as geo\n",
    "import src.utils.places_to_cells as places_to_cells\n",
    "import src.utils.parallel as parallel\n",
    "import src.data.text_process as text_process\n",
    "import src.data.word_counts as word_counts\n",
    "import src.data.clustering as data_clustering\n",
    "from dotenv import load_dotenv\n",
    "import libpysal\n",
    "import esda\n",
    "load_dotenv()"
   ]
  },
  {
   "cell_type": "markdown",
   "id": "important-meditation",
   "metadata": {},
   "source": [
    "Large todo: US, IN, CA"
   ]
  },
  {
   "cell_type": "markdown",
   "id": "american-heritage",
   "metadata": {},
   "source": [
    "# Config"
   ]
  },
  {
   "cell_type": "code",
   "execution_count": 19,
   "id": "large-tomato",
   "metadata": {},
   "outputs": [],
   "source": [
    "num_cpus = 8\n",
    "latlon_proj = 'epsg:4326'\n",
    "source_files_format = '{kind}_{from}_{to}_{cc}.json.gz'\n",
    "source_data_path = Path(os.environ['DATA_DIR'])\n",
    "proj_data_path = Path(os.environ['PWD']) / 'data'\n",
    "ext_data_path = proj_data_path / 'external'\n",
    "with open(ext_data_path / 'countries.json') as f:\n",
    "    countries_dict = json.load(f)\n",
    "lang = 'en'\n",
    "cc = 'AU'\n",
    "reg_dict = countries_dict[cc] \n",
    "xy_proj = reg_dict['xy_proj']\n",
    "min_nr_cells = 3\n",
    "cell_tokens_decade_crit = 2\n",
    "upper_th = 0.8\n",
    "max_place_area = reg_dict.get('max_place_area', 5e9)\n",
    "fname_fmt = f'{{}}_lang={lang}_cc={cc}.parquet'"
   ]
  },
  {
   "cell_type": "code",
   "execution_count": 20,
   "id": "dental-polyester",
   "metadata": {},
   "outputs": [],
   "source": [
    "params_dict = {'cc': cc, 'kind': 'tweets'}\n",
    "source_path_fmt = source_data_path / source_files_format\n",
    "format_dicts = [{**params_dict, **{'from': m.group('from'), 'to': m.group('to')}}\n",
    "                for m in file_utils.yield_paramed_matches(source_path_fmt, params_dict)]\n",
    "tweets_files_paths = [\n",
    "    Path(str(source_path_fmt).format(**f_dict))\n",
    "    for f_dict in format_dicts]\n",
    "places_files_paths = [\n",
    "    Path(str(source_path_fmt).format(**{**f_dict, **{'kind': 'places'}}))\n",
    "    for f_dict in format_dicts]"
   ]
  },
  {
   "cell_type": "code",
   "execution_count": 21,
   "id": "offshore-there",
   "metadata": {},
   "outputs": [],
   "source": [
    "shapefile_dict = {**{'file': 'CNTR_RG_01M_2016_4326.shp', 'col': 'FID', 'val': cc, 'cc': cc},\n",
    "                  **reg_dict.get('shapefile_dict', {})}\n",
    "all_cntr_shape_df = geopd.read_file(ext_data_path / shapefile_dict['file'] / shapefile_dict['file'])\n",
    "shape_df = geo.extract_shape(all_cntr_shape_df, shapefile_dict, xy_proj=xy_proj, simplify_tol=100, bbox=reg_dict.get('bbox'))"
   ]
  },
  {
   "cell_type": "code",
   "execution_count": 22,
   "id": "fallen-partnership",
   "metadata": {},
   "outputs": [
    {
     "data": {
      "text/plain": [
       "<AxesSubplot:>"
      ]
     },
     "execution_count": 22,
     "metadata": {},
     "output_type": "execute_result"
    },
    {
     "data": {
      "image/png": "[encoded data removed]",
      "text/plain": [
       "<Figure size 432x288 with 1 Axes>"
      ]
     },
     "metadata": {
      "needs_background": "light"
     },
     "output_type": "display_data"
    }
   ],
   "source": [
    "shape_df.plot()"
   ]
  },
  {
   "cell_type": "code",
   "execution_count": 173,
   "id": "affected-apple",
   "metadata": {
    "scrolled": true
   },
   "outputs": [
    {
     "data": {
      "text/plain": [
       "{'AO': 'Angola',\n",
       " 'AG': 'Antigua and Barbuda',\n",
       " 'AU': 'Australia',\n",
       " 'BE': 'Belgium',\n",
       " 'BO': 'Bolivia',\n",
       " 'BR': 'Brazil',\n",
       " 'BZ': 'Belize',\n",
       " 'CA': 'Canada',\n",
       " 'CG': 'Congo',\n",
       " 'CH': 'Switzerland',\n",
       " 'CL': 'Chile',\n",
       " 'CR': 'Costa Rica',\n",
       " 'CO': 'Colombia',\n",
       " 'CM': 'Cameroon',\n",
       " 'ES': 'Spain',\n",
       " 'DO': 'Dominican Republic',\n",
       " 'DZ': 'Algeria',\n",
       " 'EC': 'Ecuador',\n",
       " 'EE': 'Estonia',\n",
       " 'CU': 'Cuba',\n",
       " 'EG': 'Egypt',\n",
       " 'CV': 'Cape Verde',\n",
       " 'CY': 'Cyprus',\n",
       " 'FR': 'France',\n",
       " 'FI': 'Finland',\n",
       " 'HK': 'Hong Kong',\n",
       " 'HN': 'Honduras',\n",
       " 'GQ': 'Equatorial Guinea',\n",
       " 'GT': 'Guatemala',\n",
       " 'HT': 'Haiti',\n",
       " 'GW': 'Guinea-Bissau',\n",
       " 'ID': 'Indonesia',\n",
       " 'IE': 'Ireland',\n",
       " 'IN': 'India',\n",
       " 'IL': 'Israel',\n",
       " 'LB': 'Lebanon',\n",
       " 'LT': 'Lithuania',\n",
       " 'JM': 'Jamaica',\n",
       " 'LU': 'Luxembourg',\n",
       " 'LV': 'Latvia',\n",
       " 'MX': 'Mexico',\n",
       " 'MY': 'Malaysia',\n",
       " 'MG': 'Madagascar',\n",
       " 'NG': 'Nigeria',\n",
       " 'NI': 'Nicaragua',\n",
       " 'MA': 'Morocco',\n",
       " 'MZ': 'Mozambique',\n",
       " 'PA': 'Panama',\n",
       " 'PE': 'Peru',\n",
       " 'PF': 'French Polynesia',\n",
       " 'PG': 'Papua New Guinea',\n",
       " 'PK': 'Pakistan',\n",
       " 'NZ': 'New Zealand',\n",
       " 'RO': 'Romania',\n",
       " 'PT': 'Portugal',\n",
       " 'PY': 'Paraguay',\n",
       " 'SV': 'El Salvador',\n",
       " 'TL': 'Timor-Leste',\n",
       " 'UA': 'Ukraine',\n",
       " 'TN': 'Tunisia',\n",
       " 'SG': 'Singapore',\n",
       " 'ZA': 'South Africa',\n",
       " 'US': 'United States',\n",
       " 'UY': 'Uruguay',\n",
       " 'VE': 'Venezuela'}"
      ]
     },
     "execution_count": 173,
     "metadata": {},
     "output_type": "execute_result"
    }
   ],
   "source": [
    "all_cc = set()\n",
    "for f in source_path_fmt.parent.iterdir():\n",
    "    regex = source_path_fmt.name.format(**{'kind': 'tweets', 'from': '[0-9]{4}', 'to': '[0-9]{4}', 'cc': '([A-Z]{2})'})\n",
    "    new_cc = re.match(regex, f.name)\n",
    "    if new_cc:\n",
    "        all_cc.add(new_cc.groups()[0])\n",
    "mask = all_cntr_shape_df['FID'].isin(all_cc)\n",
    "dict(zip(all_cntr_shape_df.loc[mask, 'FID'], all_cntr_shape_df.loc[mask, 'NAME_ENGL']))"
   ]
  },
  {
   "cell_type": "code",
   "execution_count": 23,
   "id": "declared-acquisition",
   "metadata": {},
   "outputs": [
    {
     "name": "stderr",
     "output_type": "stream",
     "text": [
      "/home/thomaslouf/Documents/code/words-use/src/utils/geometry.py:237: UserWarning: Geometry is in a geographic CRS. Results from 'centroid' are likely incorrect. Use 'GeoSeries.to_crs()' to re-project geometries to a projected CRS before this operation.\n",
      "\n",
      "  geometry=places_geodf[['geometry']].centroid, crs=latlon_proj)\n"
     ]
    }
   ],
   "source": [
    "places_geodf = data_access.return_json(places_files_paths[1])\n",
    "places_geodf = geo.make_places_geodf(places_geodf, shape_df, xy_proj=xy_proj)"
   ]
  },
  {
   "cell_type": "markdown",
   "id": "architectural-daughter",
   "metadata": {},
   "source": [
    "reminder: newly created GB cells geodf has GB index prefix, whereas previous data has UK prefix"
   ]
  },
  {
   "cell_type": "code",
   "execution_count": 24,
   "id": "descending-semiconductor",
   "metadata": {},
   "outputs": [
    {
     "data": {
      "text/html": [
       "<div>\n",
       "<style scoped>\n",
       "    .dataframe tbody tr th:only-of-type {\n",
       "        vertical-align: middle;\n",
       "    }\n",
       "\n",
       "    .dataframe tbody tr th {\n",
       "        vertical-align: top;\n",
       "    }\n",
       "\n",
       "    .dataframe thead th {\n",
       "        text-align: right;\n",
       "    }\n",
       "</style>\n",
       "<table border=\"1\" class=\"dataframe\">\n",
       "  <thead>\n",
       "    <tr style=\"text-align: right;\">\n",
       "      <th></th>\n",
       "      <th>full_name</th>\n",
       "      <th>url</th>\n",
       "      <th>country</th>\n",
       "      <th>place_type</th>\n",
       "      <th>country_code</th>\n",
       "      <th>attributes</th>\n",
       "      <th>name</th>\n",
       "      <th>min_lon</th>\n",
       "      <th>min_lat</th>\n",
       "      <th>max_lon</th>\n",
       "      <th>max_lat</th>\n",
       "      <th>geometry</th>\n",
       "      <th>area</th>\n",
       "    </tr>\n",
       "    <tr>\n",
       "      <th>place_id</th>\n",
       "      <th></th>\n",
       "      <th></th>\n",
       "      <th></th>\n",
       "      <th></th>\n",
       "      <th></th>\n",
       "      <th></th>\n",
       "      <th></th>\n",
       "      <th></th>\n",
       "      <th></th>\n",
       "      <th></th>\n",
       "      <th></th>\n",
       "      <th></th>\n",
       "      <th></th>\n",
       "    </tr>\n",
       "  </thead>\n",
       "  <tbody>\n",
       "    <tr>\n",
       "      <th>3b108151b4b63172</th>\n",
       "      <td>Western, South Australia</td>\n",
       "      <td>https://api.twitter.com/1.1/geo/id/3b108151b4b...</td>\n",
       "      <td>Australia</td>\n",
       "      <td>neighborhood</td>\n",
       "      <td>AU</td>\n",
       "      <td>{}</td>\n",
       "      <td>Western</td>\n",
       "      <td>129.001395</td>\n",
       "      <td>-31.531113</td>\n",
       "      <td>134.334499</td>\n",
       "      <td>-28.069041</td>\n",
       "      <td>POLYGON ((-470181.987 -3566677.427, -485274.26...</td>\n",
       "      <td>1.932365e+11</td>\n",
       "    </tr>\n",
       "    <tr>\n",
       "      <th>2e8715513e2c08c4</th>\n",
       "      <td>Telfer, Western Australia</td>\n",
       "      <td>https://api.twitter.com/1.1/geo/id/2e8715513e2...</td>\n",
       "      <td>Australia</td>\n",
       "      <td>neighborhood</td>\n",
       "      <td>AU</td>\n",
       "      <td>{}</td>\n",
       "      <td>Telfer</td>\n",
       "      <td>120.064126</td>\n",
       "      <td>-23.509757</td>\n",
       "      <td>126.001296</td>\n",
       "      <td>-19.500000</td>\n",
       "      <td>POLYGON ((-1405747.433 -2756634.982, -1454516....</td>\n",
       "      <td>2.658287e+11</td>\n",
       "    </tr>\n",
       "    <tr>\n",
       "      <th>0ec0c4fcacbd0083</th>\n",
       "      <td>Victoria, Australia</td>\n",
       "      <td>https://api.twitter.com/1.1/geo/id/0ec0c4fcacb...</td>\n",
       "      <td>Australia</td>\n",
       "      <td>admin</td>\n",
       "      <td>AU</td>\n",
       "      <td>{}</td>\n",
       "      <td>Victoria</td>\n",
       "      <td>140.961682</td>\n",
       "      <td>-39.159190</td>\n",
       "      <td>149.976679</td>\n",
       "      <td>-33.980426</td>\n",
       "      <td>POLYGON ((607857.828 -4419679.869, 639742.611 ...</td>\n",
       "      <td>3.836092e+11</td>\n",
       "    </tr>\n",
       "    <tr>\n",
       "      <th>13ff7232c64937bc</th>\n",
       "      <td>Outback, South Australia</td>\n",
       "      <td>https://api.twitter.com/1.1/geo/id/13ff7232c64...</td>\n",
       "      <td>Australia</td>\n",
       "      <td>neighborhood</td>\n",
       "      <td>AU</td>\n",
       "      <td>{}</td>\n",
       "      <td>Outback</td>\n",
       "      <td>132.998100</td>\n",
       "      <td>-32.911981</td>\n",
       "      <td>141.000705</td>\n",
       "      <td>-25.996168</td>\n",
       "      <td>POLYGON ((-93054.544 -3709556.030, -99099.775 ...</td>\n",
       "      <td>5.727223e+11</td>\n",
       "    </tr>\n",
       "    <tr>\n",
       "      <th>4e3c0a60cb10372a</th>\n",
       "      <td>South Australia, Australia</td>\n",
       "      <td>https://api.twitter.com/1.1/geo/id/4e3c0a60cb1...</td>\n",
       "      <td>Australia</td>\n",
       "      <td>admin</td>\n",
       "      <td>AU</td>\n",
       "      <td>{}</td>\n",
       "      <td>South Australia</td>\n",
       "      <td>129.001337</td>\n",
       "      <td>-38.062603</td>\n",
       "      <td>141.002956</td>\n",
       "      <td>-25.996146</td>\n",
       "      <td>POLYGON ((-441447.773 -4288839.738, -494301.93...</td>\n",
       "      <td>9.510778e+11</td>\n",
       "    </tr>\n",
       "    <tr>\n",
       "      <th>265b933184e2b88a</th>\n",
       "      <td>New South Wales, Australia</td>\n",
       "      <td>https://api.twitter.com/1.1/geo/id/265b933184e...</td>\n",
       "      <td>Australia</td>\n",
       "      <td>admin</td>\n",
       "      <td>AU</td>\n",
       "      <td>{}</td>\n",
       "      <td>New South Wales</td>\n",
       "      <td>140.999475</td>\n",
       "      <td>-37.505060</td>\n",
       "      <td>159.109219</td>\n",
       "      <td>-28.157020</td>\n",
       "      <td>POLYGON ((621453.474 -4235139.336, 678814.256 ...</td>\n",
       "      <td>1.027845e+12</td>\n",
       "    </tr>\n",
       "    <tr>\n",
       "      <th>06883f205e78b159</th>\n",
       "      <td>Northern Territory, Australia</td>\n",
       "      <td>https://api.twitter.com/1.1/geo/id/06883f205e7...</td>\n",
       "      <td>Australia</td>\n",
       "      <td>admin</td>\n",
       "      <td>AU</td>\n",
       "      <td>{}</td>\n",
       "      <td>Northern Territory</td>\n",
       "      <td>129.000440</td>\n",
       "      <td>-25.999482</td>\n",
       "      <td>138.001198</td>\n",
       "      <td>-10.965914</td>\n",
       "      <td>POLYGON ((-494376.070 -2961103.844, -560660.79...</td>\n",
       "      <td>1.337829e+12</td>\n",
       "    </tr>\n",
       "    <tr>\n",
       "      <th>7e347291be7bbab4</th>\n",
       "      <td>Queensland, Australia</td>\n",
       "      <td>https://api.twitter.com/1.1/geo/id/7e347291be7...</td>\n",
       "      <td>Australia</td>\n",
       "      <td>admin</td>\n",
       "      <td>AU</td>\n",
       "      <td>{}</td>\n",
       "      <td>Queensland</td>\n",
       "      <td>137.995957</td>\n",
       "      <td>-29.177898</td>\n",
       "      <td>153.552171</td>\n",
       "      <td>-9.142176</td>\n",
       "      <td>POLYGON ((384111.681 -3305325.207, 454768.198 ...</td>\n",
       "      <td>1.869363e+12</td>\n",
       "    </tr>\n",
       "    <tr>\n",
       "      <th>1b66f15d4efa136f</th>\n",
       "      <td>Western Australia, Australia</td>\n",
       "      <td>https://api.twitter.com/1.1/geo/id/1b66f15d4ef...</td>\n",
       "      <td>Australia</td>\n",
       "      <td>admin</td>\n",
       "      <td>AU</td>\n",
       "      <td>{}</td>\n",
       "      <td>Western Australia</td>\n",
       "      <td>112.921114</td>\n",
       "      <td>-35.134846</td>\n",
       "      <td>129.001930</td>\n",
       "      <td>-13.689492</td>\n",
       "      <td>POLYGON ((-1907657.170 -4114915.124, -2302070....</td>\n",
       "      <td>2.483069e+12</td>\n",
       "    </tr>\n",
       "    <tr>\n",
       "      <th>3f14ce28dc7c4566</th>\n",
       "      <td>Australia</td>\n",
       "      <td>https://api.twitter.com/1.1/geo/id/3f14ce28dc7...</td>\n",
       "      <td>Australia</td>\n",
       "      <td>country</td>\n",
       "      <td>AU</td>\n",
       "      <td>{}</td>\n",
       "      <td>Australia</td>\n",
       "      <td>112.921114</td>\n",
       "      <td>-43.740482</td>\n",
       "      <td>159.109219</td>\n",
       "      <td>-9.142176</td>\n",
       "      <td>POLYGON ((-1746071.959 -5069226.730, -2388096....</td>\n",
       "      <td>7.562123e+12</td>\n",
       "    </tr>\n",
       "  </tbody>\n",
       "</table>\n",
       "</div>"
      ],
      "text/plain": [
       "                                      full_name  \\\n",
       "place_id                                          \n",
       "3b108151b4b63172       Western, South Australia   \n",
       "2e8715513e2c08c4      Telfer, Western Australia   \n",
       "0ec0c4fcacbd0083            Victoria, Australia   \n",
       "13ff7232c64937bc       Outback, South Australia   \n",
       "4e3c0a60cb10372a     South Australia, Australia   \n",
       "265b933184e2b88a     New South Wales, Australia   \n",
       "06883f205e78b159  Northern Territory, Australia   \n",
       "7e347291be7bbab4          Queensland, Australia   \n",
       "1b66f15d4efa136f   Western Australia, Australia   \n",
       "3f14ce28dc7c4566                      Australia   \n",
       "\n",
       "                                                                url  \\\n",
       "place_id                                                              \n",
       "3b108151b4b63172  https://api.twitter.com/1.1/geo/id/3b108151b4b...   \n",
       "2e8715513e2c08c4  https://api.twitter.com/1.1/geo/id/2e8715513e2...   \n",
       "0ec0c4fcacbd0083  https://api.twitter.com/1.1/geo/id/0ec0c4fcacb...   \n",
       "13ff7232c64937bc  https://api.twitter.com/1.1/geo/id/13ff7232c64...   \n",
       "4e3c0a60cb10372a  https://api.twitter.com/1.1/geo/id/4e3c0a60cb1...   \n",
       "265b933184e2b88a  https://api.twitter.com/1.1/geo/id/265b933184e...   \n",
       "06883f205e78b159  https://api.twitter.com/1.1/geo/id/06883f205e7...   \n",
       "7e347291be7bbab4  https://api.twitter.com/1.1/geo/id/7e347291be7...   \n",
       "1b66f15d4efa136f  https://api.twitter.com/1.1/geo/id/1b66f15d4ef...   \n",
       "3f14ce28dc7c4566  https://api.twitter.com/1.1/geo/id/3f14ce28dc7...   \n",
       "\n",
       "                    country    place_type country_code attributes  \\\n",
       "place_id                                                            \n",
       "3b108151b4b63172  Australia  neighborhood           AU         {}   \n",
       "2e8715513e2c08c4  Australia  neighborhood           AU         {}   \n",
       "0ec0c4fcacbd0083  Australia         admin           AU         {}   \n",
       "13ff7232c64937bc  Australia  neighborhood           AU         {}   \n",
       "4e3c0a60cb10372a  Australia         admin           AU         {}   \n",
       "265b933184e2b88a  Australia         admin           AU         {}   \n",
       "06883f205e78b159  Australia         admin           AU         {}   \n",
       "7e347291be7bbab4  Australia         admin           AU         {}   \n",
       "1b66f15d4efa136f  Australia         admin           AU         {}   \n",
       "3f14ce28dc7c4566  Australia       country           AU         {}   \n",
       "\n",
       "                                name     min_lon    min_lat     max_lon  \\\n",
       "place_id                                                                  \n",
       "3b108151b4b63172             Western  129.001395 -31.531113  134.334499   \n",
       "2e8715513e2c08c4              Telfer  120.064126 -23.509757  126.001296   \n",
       "0ec0c4fcacbd0083            Victoria  140.961682 -39.159190  149.976679   \n",
       "13ff7232c64937bc             Outback  132.998100 -32.911981  141.000705   \n",
       "4e3c0a60cb10372a     South Australia  129.001337 -38.062603  141.002956   \n",
       "265b933184e2b88a     New South Wales  140.999475 -37.505060  159.109219   \n",
       "06883f205e78b159  Northern Territory  129.000440 -25.999482  138.001198   \n",
       "7e347291be7bbab4          Queensland  137.995957 -29.177898  153.552171   \n",
       "1b66f15d4efa136f   Western Australia  112.921114 -35.134846  129.001930   \n",
       "3f14ce28dc7c4566           Australia  112.921114 -43.740482  159.109219   \n",
       "\n",
       "                    max_lat  \\\n",
       "place_id                      \n",
       "3b108151b4b63172 -28.069041   \n",
       "2e8715513e2c08c4 -19.500000   \n",
       "0ec0c4fcacbd0083 -33.980426   \n",
       "13ff7232c64937bc -25.996168   \n",
       "4e3c0a60cb10372a -25.996146   \n",
       "265b933184e2b88a -28.157020   \n",
       "06883f205e78b159 -10.965914   \n",
       "7e347291be7bbab4  -9.142176   \n",
       "1b66f15d4efa136f -13.689492   \n",
       "3f14ce28dc7c4566  -9.142176   \n",
       "\n",
       "                                                           geometry  \\\n",
       "place_id                                                              \n",
       "3b108151b4b63172  POLYGON ((-470181.987 -3566677.427, -485274.26...   \n",
       "2e8715513e2c08c4  POLYGON ((-1405747.433 -2756634.982, -1454516....   \n",
       "0ec0c4fcacbd0083  POLYGON ((607857.828 -4419679.869, 639742.611 ...   \n",
       "13ff7232c64937bc  POLYGON ((-93054.544 -3709556.030, -99099.775 ...   \n",
       "4e3c0a60cb10372a  POLYGON ((-441447.773 -4288839.738, -494301.93...   \n",
       "265b933184e2b88a  POLYGON ((621453.474 -4235139.336, 678814.256 ...   \n",
       "06883f205e78b159  POLYGON ((-494376.070 -2961103.844, -560660.79...   \n",
       "7e347291be7bbab4  POLYGON ((384111.681 -3305325.207, 454768.198 ...   \n",
       "1b66f15d4efa136f  POLYGON ((-1907657.170 -4114915.124, -2302070....   \n",
       "3f14ce28dc7c4566  POLYGON ((-1746071.959 -5069226.730, -2388096....   \n",
       "\n",
       "                          area  \n",
       "place_id                        \n",
       "3b108151b4b63172  1.932365e+11  \n",
       "2e8715513e2c08c4  2.658287e+11  \n",
       "0ec0c4fcacbd0083  3.836092e+11  \n",
       "13ff7232c64937bc  5.727223e+11  \n",
       "4e3c0a60cb10372a  9.510778e+11  \n",
       "265b933184e2b88a  1.027845e+12  \n",
       "06883f205e78b159  1.337829e+12  \n",
       "7e347291be7bbab4  1.869363e+12  \n",
       "1b66f15d4efa136f  2.483069e+12  \n",
       "3f14ce28dc7c4566  7.562123e+12  "
      ]
     },
     "execution_count": 24,
     "metadata": {},
     "output_type": "execute_result"
    }
   ],
   "source": [
    "places_geodf.sort_values(by='area').tail(10)"
   ]
  },
  {
   "cell_type": "code",
   "execution_count": 25,
   "id": "informational-bikini",
   "metadata": {},
   "outputs": [
    {
     "name": "stdout",
     "output_type": "stream",
     "text": [
      "(1490, 2)\n"
     ]
    },
    {
     "data": {
      "text/plain": [
       "<AxesSubplot:>"
      ]
     },
     "execution_count": 25,
     "metadata": {},
     "output_type": "execute_result"
    },
    {
     "data": {
      "image/png": "[encoded data removed]",
      "text/plain": [
       "<Figure size 432x288 with 1 Axes>"
      ]
     },
     "metadata": {
      "needs_background": "light"
     },
     "output_type": "display_data"
    }
   ],
   "source": [
    "cell_size = reg_dict.get('cell_size', 50e3)\n",
    "_, cells_geodf, _, _ = geo.create_grid(shape_df, cell_size, xy_proj=xy_proj, intersect=True)\n",
    "print(cells_geodf.shape)\n",
    "cells_geodf.plot()"
   ]
  },
  {
   "cell_type": "code",
   "execution_count": 26,
   "id": "optimum-assembly",
   "metadata": {},
   "outputs": [],
   "source": [
    "for i, df_access in enumerate(data_access.yield_tweets_access(tweets_files_paths[1], size=1e9)):\n",
    "    df = data_access.read_json_wrapper(df_access)\n",
    "    break"
   ]
  },
  {
   "cell_type": "code",
   "execution_count": 27,
   "id": "honey-surveillance",
   "metadata": {},
   "outputs": [
    {
     "data": {
      "text/plain": [
       "(842434, 12)"
      ]
     },
     "execution_count": 27,
     "metadata": {},
     "output_type": "execute_result"
    }
   ],
   "source": [
    "df.shape"
   ]
  },
  {
   "cell_type": "code",
   "execution_count": 28,
   "id": "painful-nature",
   "metadata": {},
   "outputs": [
    {
     "data": {
      "text/plain": [
       "(795537, 25)"
      ]
     },
     "execution_count": 28,
     "metadata": {},
     "output_type": "execute_result"
    }
   ],
   "source": [
    "df.join(places_geodf.loc[places_geodf['area'] < 1e10], on='place_id', how='inner').shape"
   ]
  },
  {
   "cell_type": "code",
   "execution_count": 44,
   "id": "pretty-setting",
   "metadata": {},
   "outputs": [
    {
     "data": {
      "text/plain": [
       "<AxesSubplot:>"
      ]
     },
     "execution_count": 44,
     "metadata": {},
     "output_type": "execute_result"
    },
    {
     "data": {
      "image/png": "[encoded data removed]",
      "text/plain": [
       "<Figure size 432x288 with 1 Axes>"
      ]
     },
     "metadata": {
      "needs_background": "light"
     },
     "output_type": "display_data"
    }
   ],
   "source": [
    "fig, ax = plt.subplots(1)\n",
    "shape_df.plot(ax=ax, color='none', edgecolor='black')\n",
    "places_in_xy.loc[(places_in_xy['area'] < 1e10) & (places_in_xy['area'] > 5e9)].plot(ax=ax)"
   ]
  },
  {
   "cell_type": "markdown",
   "id": "hidden-bangkok",
   "metadata": {},
   "source": [
    "# Process tweets"
   ]
  },
  {
   "cell_type": "code",
   "execution_count": 29,
   "id": "adolescent-dance",
   "metadata": {},
   "outputs": [],
   "source": [
    "@ray.remote\n",
    "def remote_chunk_process(df_access, cells_geodf, places_geodf, cells_in_places, lang):\n",
    "    cols = ['text', 'source', 'coordinates', 'lang', 'place_id', 'uid']\n",
    "    tweets_df = data_access.read_json_wrapper(df_access)[cols]\n",
    "    cell_counts = word_counts.get_cell_word_counts(tweets_df, cells_geodf, places_geodf,\n",
    "                                                   cells_in_places, lang)\n",
    "    print('done')\n",
    "    return cell_counts"
   ]
  },
  {
   "cell_type": "markdown",
   "id": "incredible-tactics",
   "metadata": {},
   "source": [
    "prepare places_geodf when larger"
   ]
  },
  {
   "cell_type": "code",
   "execution_count": 30,
   "id": "corresponding-estonia",
   "metadata": {
    "scrolled": true
   },
   "outputs": [
    {
     "name": "stderr",
     "output_type": "stream",
     "text": [
      "2021-03-17 15:56:14,341\tINFO services.py:1174 -- View the Ray dashboard at \u001b[1m\u001b[32mhttp://127.0.0.1:8265\u001b[39m\u001b[22m\n"
     ]
    },
    {
     "name": "stdout",
     "output_type": "stream",
     "text": [
      "/data/social/twitter/countries_2015_2018/data/tweets_2018_2018_AU.json.gz\n"
     ]
    },
    {
     "name": "stderr",
     "output_type": "stream",
     "text": [
      "/home/thomaslouf/Documents/code/words-use/src/utils/geometry.py:237: UserWarning: Geometry is in a geographic CRS. Results from 'centroid' are likely incorrect. Use 'GeoSeries.to_crs()' to re-project geometries to a projected CRS before this operation.\n",
      "\n",
      "  geometry=places_geodf[['geometry']].centroid, crs=latlon_proj)\n"
     ]
    },
    {
     "name": "stdout",
     "output_type": "stream",
     "text": [
      "places done\n",
      "waiting at iteration 12, pending jobs: 13\n",
      "\u001b[2m\u001b[36m(pid=22899)\u001b[0m done\n",
      "\u001b[2m\u001b[36m(pid=22899)\u001b[0m done\n",
      "waited\n",
      "\u001b[2m\u001b[36m(pid=22895)\u001b[0m done\n",
      "\u001b[2m\u001b[36m(pid=22895)\u001b[0m done\n",
      "waiting at iteration 14, pending jobs: 13\n",
      "\u001b[2m\u001b[36m(pid=22900)\u001b[0m done\n",
      "\u001b[2m\u001b[36m(pid=22900)\u001b[0m done\n",
      "waited\n",
      "/data/social/twitter/countries_2015_2018/data/tweets_2016_2016_AU.json.gz\n"
     ]
    },
    {
     "name": "stderr",
     "output_type": "stream",
     "text": [
      "/home/thomaslouf/Documents/code/words-use/src/utils/geometry.py:237: UserWarning: Geometry is in a geographic CRS. Results from 'centroid' are likely incorrect. Use 'GeoSeries.to_crs()' to re-project geometries to a projected CRS before this operation.\n",
      "\n",
      "  geometry=places_geodf[['geometry']].centroid, crs=latlon_proj)\n"
     ]
    },
    {
     "name": "stdout",
     "output_type": "stream",
     "text": [
      "\u001b[2m\u001b[36m(pid=22897)\u001b[0m done\n",
      "\u001b[2m\u001b[36m(pid=22897)\u001b[0m done\n",
      "places done\n",
      "\u001b[2m\u001b[36m(pid=22896)\u001b[0m done\n",
      "\u001b[2m\u001b[36m(pid=22896)\u001b[0m done\n",
      "\u001b[2m\u001b[36m(pid=22901)\u001b[0m done\n",
      "\u001b[2m\u001b[36m(pid=22901)\u001b[0m done\n",
      "\u001b[2m\u001b[36m(pid=22893)\u001b[0m done\n",
      "\u001b[2m\u001b[36m(pid=22893)\u001b[0m done\n",
      "\u001b[2m\u001b[36m(pid=22892)\u001b[0m done\n",
      "\u001b[2m\u001b[36m(pid=22892)\u001b[0m done\n",
      "combining 8 elements\n",
      "waiting at iteration 5, pending jobs: 13\n",
      "\u001b[2m\u001b[36m(pid=22899)\u001b[0m done\n",
      "\u001b[2m\u001b[36m(pid=22899)\u001b[0m done\n",
      "waited\n",
      "\u001b[2m\u001b[36m(pid=22893)\u001b[0m done\n",
      "\u001b[2m\u001b[36m(pid=22893)\u001b[0m done\n",
      "\u001b[2m\u001b[36m(pid=22895)\u001b[0m done\n",
      "\u001b[2m\u001b[36m(pid=22895)\u001b[0m done\n",
      "\u001b[2m\u001b[36m(pid=22900)\u001b[0m done\n",
      "\u001b[2m\u001b[36m(pid=22900)\u001b[0m done\n",
      "waiting at iteration 9, pending jobs: 13\n",
      "\u001b[2m\u001b[36m(pid=22892)\u001b[0m done\n",
      "\u001b[2m\u001b[36m(pid=22892)\u001b[0m done\n",
      "waited\n",
      "waiting at iteration 10, pending jobs: 13\n",
      "\u001b[2m\u001b[36m(pid=22897)\u001b[0m done\n",
      "\u001b[2m\u001b[36m(pid=22897)\u001b[0m done\n",
      "waited\n",
      "\u001b[2m\u001b[36m(pid=22901)\u001b[0m done\n",
      "\u001b[2m\u001b[36m(pid=22901)\u001b[0m done\n",
      "\u001b[2m\u001b[36m(pid=22896)\u001b[0m done\n",
      "\u001b[2m\u001b[36m(pid=22896)\u001b[0m done\n",
      "combining 8 elements\n",
      "\u001b[2m\u001b[36m(pid=22893)\u001b[0m done\n",
      "\u001b[2m\u001b[36m(pid=22893)\u001b[0m done\n",
      "\u001b[2m\u001b[36m(pid=22899)\u001b[0m done\n",
      "\u001b[2m\u001b[36m(pid=22899)\u001b[0m done\n",
      "waiting at iteration 13, pending jobs: 13\n",
      "waited\n",
      "\u001b[2m\u001b[36m(pid=22900)\u001b[0m done\n",
      "\u001b[2m\u001b[36m(pid=22900)\u001b[0m \n",
      "\u001b[2m\u001b[36m(pid=22900)\u001b[0m done\n",
      "\u001b[2m\u001b[36m(pid=22900)\u001b[0m \n",
      "\u001b[2m\u001b[36m(pid=22895)\u001b[0m done\n",
      "\u001b[2m\u001b[36m(pid=22895)\u001b[0m done\n",
      "waiting at iteration 17, pending jobs: 13\n",
      "\u001b[2m\u001b[36m(pid=22892)\u001b[0m done\n",
      "\u001b[2m\u001b[36m(pid=22892)\u001b[0m done\n",
      "waited\n",
      "/data/social/twitter/countries_2015_2018/data/tweets_2021_2021_AU.json.gz\n"
     ]
    },
    {
     "name": "stderr",
     "output_type": "stream",
     "text": [
      "/home/thomaslouf/Documents/code/words-use/src/utils/geometry.py:237: UserWarning: Geometry is in a geographic CRS. Results from 'centroid' are likely incorrect. Use 'GeoSeries.to_crs()' to re-project geometries to a projected CRS before this operation.\n",
      "\n",
      "  geometry=places_geodf[['geometry']].centroid, crs=latlon_proj)\n"
     ]
    },
    {
     "name": "stdout",
     "output_type": "stream",
     "text": [
      "places done\n",
      "waiting at iteration 0, pending jobs: 13\n",
      "\u001b[2m\u001b[36m(pid=22901)\u001b[0m done\n",
      "\u001b[2m\u001b[36m(pid=22901)\u001b[0m done\n",
      "waited\n",
      "waiting at iteration 1, pending jobs: 13\n",
      "\u001b[2m\u001b[36m(pid=22896)\u001b[0m done\n",
      "\u001b[2m\u001b[36m(pid=22896)\u001b[0m done\n",
      "waited\n",
      "/data/social/twitter/countries_2015_2018/data/tweets_2017_2017_AU.json.gz\n"
     ]
    },
    {
     "name": "stderr",
     "output_type": "stream",
     "text": [
      "/home/thomaslouf/Documents/code/words-use/src/utils/geometry.py:237: UserWarning: Geometry is in a geographic CRS. Results from 'centroid' are likely incorrect. Use 'GeoSeries.to_crs()' to re-project geometries to a projected CRS before this operation.\n",
      "\n",
      "  geometry=places_geodf[['geometry']].centroid, crs=latlon_proj)\n"
     ]
    },
    {
     "name": "stdout",
     "output_type": "stream",
     "text": [
      "\u001b[2m\u001b[36m(pid=22899)\u001b[0m done\n",
      "\u001b[2m\u001b[36m(pid=22899)\u001b[0m done\n",
      "\u001b[2m\u001b[36m(pid=22893)\u001b[0m done\n",
      "\u001b[2m\u001b[36m(pid=22893)\u001b[0m done\n",
      "\u001b[2m\u001b[36m(pid=22900)\u001b[0m done\n",
      "\u001b[2m\u001b[36m(pid=22900)\u001b[0m done\n",
      "\u001b[2m\u001b[36m(pid=22897)\u001b[0m done\n",
      "\u001b[2m\u001b[36m(pid=22897)\u001b[0m done\n",
      "places done\n",
      "\u001b[2m\u001b[36m(pid=22892)\u001b[0m done\n",
      "\u001b[2m\u001b[36m(pid=22892)\u001b[0m done\n",
      "\u001b[2m\u001b[36m(pid=22895)\u001b[0m done\n",
      "\u001b[2m\u001b[36m(pid=22895)\u001b[0m done\n",
      "\u001b[2m\u001b[36m(pid=22900)\u001b[0m done\n",
      "\u001b[2m\u001b[36m(pid=22900)\u001b[0m done\n",
      "\u001b[2m\u001b[36m(pid=22893)\u001b[0m done\n",
      "\u001b[2m\u001b[36m(pid=22893)\u001b[0m done\n",
      "combining 15 elements\n",
      "waiting at iteration 8, pending jobs: 13\n",
      "\u001b[2m\u001b[36m(pid=22899)\u001b[0m done\n",
      "\u001b[2m\u001b[36m(pid=22899)\u001b[0m done\n",
      "\u001b[2m\u001b[36m(pid=22901)\u001b[0m done\n",
      "\u001b[2m\u001b[36m(pid=22901)\u001b[0m done\n",
      "waited\n",
      "\u001b[2m\u001b[36m(pid=22896)\u001b[0m done\n",
      "\u001b[2m\u001b[36m(pid=22896)\u001b[0m done\n",
      "\u001b[2m\u001b[36m(pid=22897)\u001b[0m done\n",
      "\u001b[2m\u001b[36m(pid=22897)\u001b[0m done\n",
      "waiting at iteration 11, pending jobs: 13\n",
      "waited\n",
      "waiting at iteration 12, pending jobs: 13\n",
      "\u001b[2m\u001b[36m(pid=22895)\u001b[0m done\n",
      "\u001b[2m\u001b[36m(pid=22895)\u001b[0m done\n",
      "waited\n",
      "\u001b[2m\u001b[36m(pid=22900)\u001b[0m done\n",
      "\u001b[2m\u001b[36m(pid=22900)\u001b[0m done\n",
      "/data/social/twitter/countries_2015_2018/data/tweets_2015_2015_AU.json.gz\n"
     ]
    },
    {
     "name": "stderr",
     "output_type": "stream",
     "text": [
      "/home/thomaslouf/Documents/code/words-use/src/utils/geometry.py:237: UserWarning: Geometry is in a geographic CRS. Results from 'centroid' are likely incorrect. Use 'GeoSeries.to_crs()' to re-project geometries to a projected CRS before this operation.\n",
      "\n",
      "  geometry=places_geodf[['geometry']].centroid, crs=latlon_proj)\n"
     ]
    },
    {
     "name": "stdout",
     "output_type": "stream",
     "text": [
      "\u001b[2m\u001b[36m(pid=22892)\u001b[0m done\n",
      "\u001b[2m\u001b[36m(pid=22892)\u001b[0m done\n",
      "places done\n",
      "\u001b[2m\u001b[36m(pid=22893)\u001b[0m done\n",
      "\u001b[2m\u001b[36m(pid=22893)\u001b[0m done\n",
      "waiting at iteration 1, pending jobs: 13\n",
      "waited\n",
      "combining 8 elements\n",
      "waiting at iteration 2, pending jobs: 13\n",
      "\u001b[2m\u001b[36m(pid=22901)\u001b[0m done\n",
      "\u001b[2m\u001b[36m(pid=22901)\u001b[0m done\n",
      "waited\n",
      "waiting at iteration 3, pending jobs: 13\n",
      "\u001b[2m\u001b[36m(pid=22896)\u001b[0m done\n",
      "\u001b[2m\u001b[36m(pid=22896)\u001b[0m done\n",
      "waited\n",
      "waiting at iteration 4, pending jobs: 13\n",
      "\u001b[2m\u001b[36m(pid=22899)\u001b[0m done\n",
      "\u001b[2m\u001b[36m(pid=22899)\u001b[0m done\n",
      "waited\n",
      "waiting at iteration 5, pending jobs: 13\n",
      "\u001b[2m\u001b[36m(pid=22897)\u001b[0m done\n",
      "\u001b[2m\u001b[36m(pid=22897)\u001b[0m done\n",
      "waited\n",
      "waiting at iteration 6, pending jobs: 13\n",
      "\u001b[2m\u001b[36m(pid=22895)\u001b[0m done\n",
      "\u001b[2m\u001b[36m(pid=22895)\u001b[0m done\n",
      "waited\n",
      "waiting at iteration 7, pending jobs: 13\n",
      "\u001b[2m\u001b[36m(pid=22892)\u001b[0m done\n",
      "\u001b[2m\u001b[36m(pid=22892)\u001b[0m done\n",
      "waited\n",
      "\u001b[2m\u001b[36m(pid=22900)\u001b[0m done\n",
      "\u001b[2m\u001b[36m(pid=22900)\u001b[0m done\n",
      "waiting at iteration 8, pending jobs: 13\n",
      "waited\n",
      "waiting at iteration 9, pending jobs: 13\n",
      "\u001b[2m\u001b[36m(pid=22893)\u001b[0m done\n",
      "\u001b[2m\u001b[36m(pid=22893)\u001b[0m done\n",
      "waited\n",
      "/data/social/twitter/countries_2015_2018/data/tweets_2020_2020_AU.json.gz\n"
     ]
    },
    {
     "name": "stderr",
     "output_type": "stream",
     "text": [
      "/home/thomaslouf/Documents/code/words-use/src/utils/geometry.py:237: UserWarning: Geometry is in a geographic CRS. Results from 'centroid' are likely incorrect. Use 'GeoSeries.to_crs()' to re-project geometries to a projected CRS before this operation.\n",
      "\n",
      "  geometry=places_geodf[['geometry']].centroid, crs=latlon_proj)\n"
     ]
    },
    {
     "name": "stdout",
     "output_type": "stream",
     "text": [
      "places done\n",
      "\u001b[2m\u001b[36m(pid=22899)\u001b[0m done\n",
      "\u001b[2m\u001b[36m(pid=22899)\u001b[0m done\n",
      "\u001b[2m\u001b[36m(pid=22897)\u001b[0m done\n",
      "\u001b[2m\u001b[36m(pid=22897)\u001b[0m done\n",
      "\u001b[2m\u001b[36m(pid=22901)\u001b[0m done\n",
      "\u001b[2m\u001b[36m(pid=22901)\u001b[0m done\n",
      "\u001b[2m\u001b[36m(pid=22896)\u001b[0m done\n",
      "\u001b[2m\u001b[36m(pid=22896)\u001b[0m done\n",
      "combining 12 elements\n",
      "waiting at iteration 4, pending jobs: 13\n",
      "\u001b[2m\u001b[36m(pid=22895)\u001b[0m done\n",
      "\u001b[2m\u001b[36m(pid=22895)\u001b[0m done\n",
      "waited\n",
      "waiting at iteration 5, pending jobs: 13\n",
      "\u001b[2m\u001b[36m(pid=22892)\u001b[0m done\n",
      "\u001b[2m\u001b[36m(pid=22892)\u001b[0m done\n",
      "waited\n",
      "waiting at iteration 6, pending jobs: 13\n",
      "\u001b[2m\u001b[36m(pid=22899)\u001b[0m done\n",
      "\u001b[2m\u001b[36m(pid=22899)\u001b[0m done\n",
      "waited\n",
      "waiting at iteration 7, pending jobs: 13\n",
      "\u001b[2m\u001b[36m(pid=22900)\u001b[0m done\n",
      "\u001b[2m\u001b[36m(pid=22900)\u001b[0m done\n",
      "waited\n",
      "waiting at iteration 8, pending jobs: 13\n",
      "\u001b[2m\u001b[36m(pid=22892)\u001b[0m done\n",
      "\u001b[2m\u001b[36m(pid=22892)\u001b[0m done\n",
      "waited\n",
      "waiting at iteration 9, pending jobs: 13\n",
      "\u001b[2m\u001b[36m(pid=22901)\u001b[0m done\n",
      "\u001b[2m\u001b[36m(pid=22901)\u001b[0m done\n",
      "\u001b[2m\u001b[36m(pid=22893)\u001b[0m done\n",
      "\u001b[2m\u001b[36m(pid=22893)\u001b[0m done\n",
      "waited\n",
      "waiting at iteration 11, pending jobs: 13\n",
      "\u001b[2m\u001b[36m(pid=22895)\u001b[0m done\n",
      "\u001b[2m\u001b[36m(pid=22895)\u001b[0m done\n",
      "waited\n",
      "/data/social/twitter/countries_2015_2018/data/tweets_2019_2019_AU.json.gz\n"
     ]
    },
    {
     "name": "stderr",
     "output_type": "stream",
     "text": [
      "/home/thomaslouf/Documents/code/words-use/src/utils/geometry.py:237: UserWarning: Geometry is in a geographic CRS. Results from 'centroid' are likely incorrect. Use 'GeoSeries.to_crs()' to re-project geometries to a projected CRS before this operation.\n",
      "\n",
      "  geometry=places_geodf[['geometry']].centroid, crs=latlon_proj)\n"
     ]
    },
    {
     "name": "stdout",
     "output_type": "stream",
     "text": [
      "\u001b[2m\u001b[36m(pid=22896)\u001b[0m done\n",
      "\u001b[2m\u001b[36m(pid=22896)\u001b[0m done\n",
      "\u001b[2m\u001b[36m(pid=22897)\u001b[0m done\n",
      "\u001b[2m\u001b[36m(pid=22897)\u001b[0m done\n",
      "\u001b[2m\u001b[36m(pid=22899)\u001b[0m done\n",
      "\u001b[2m\u001b[36m(pid=22899)\u001b[0m done\n",
      "\u001b[2m\u001b[36m(pid=22900)\u001b[0m done\n",
      "\u001b[2m\u001b[36m(pid=22900)\u001b[0m done\n",
      "places done\n",
      "combining 12 elements\n",
      "waiting at iteration 4, pending jobs: 13\n",
      "\u001b[2m\u001b[36m(pid=22892)\u001b[0m done\n",
      "\u001b[2m\u001b[36m(pid=22892)\u001b[0m done\n",
      "waited\n",
      "waiting at iteration 5, pending jobs: 13\n",
      "\u001b[2m\u001b[36m(pid=22901)\u001b[0m done\n",
      "\u001b[2m\u001b[36m(pid=22901)\u001b[0m done\n",
      "\u001b[2m\u001b[36m(pid=22900)\u001b[0m done\n",
      "\u001b[2m\u001b[36m(pid=22900)\u001b[0m done\n",
      "waited\n",
      "\u001b[2m\u001b[36m(pid=22893)\u001b[0m done\n",
      "\u001b[2m\u001b[36m(pid=22893)\u001b[0m done\n",
      "waiting at iteration 8, pending jobs: 13\n",
      "\u001b[2m\u001b[36m(pid=22896)\u001b[0m done\n",
      "\u001b[2m\u001b[36m(pid=22896)\u001b[0m done\n",
      "waited\n",
      "waiting at iteration 9, pending jobs: 13\n",
      "\u001b[2m\u001b[36m(pid=22897)\u001b[0m done\n",
      "\u001b[2m\u001b[36m(pid=22897)\u001b[0m done\n",
      "waited\n",
      "waiting at iteration 10, pending jobs: 13\n",
      "\u001b[2m\u001b[36m(pid=22895)\u001b[0m done\n",
      "\u001b[2m\u001b[36m(pid=22895)\u001b[0m done\n",
      "waited\n",
      "\u001b[2m\u001b[36m(pid=22899)\u001b[0m done\n",
      "\u001b[2m\u001b[36m(pid=22899)\u001b[0m done\n",
      "waiting at iteration 11, pending jobs: 13\n",
      "waited\n",
      "combining 8 elements\n",
      "waiting at iteration 12, pending jobs: 13\n",
      "\u001b[2m\u001b[36m(pid=22892)\u001b[0m done\n",
      "\u001b[2m\u001b[36m(pid=22892)\u001b[0m done\n",
      "waited\n",
      "\u001b[2m\u001b[36m(pid=22900)\u001b[0m done\n",
      "\u001b[2m\u001b[36m(pid=22900)\u001b[0m done\n",
      "\u001b[2m\u001b[36m(pid=22901)\u001b[0m done\n",
      "\u001b[2m\u001b[36m(pid=22901)\u001b[0m done\n",
      "\u001b[2m\u001b[36m(pid=22893)\u001b[0m done\n",
      "\u001b[2m\u001b[36m(pid=22893)\u001b[0m done\n",
      "\u001b[2m\u001b[36m(pid=22896)\u001b[0m done\n",
      "\u001b[2m\u001b[36m(pid=22896)\u001b[0m done\n",
      "\u001b[2m\u001b[36m(pid=22895)\u001b[0m done\n",
      "\u001b[2m\u001b[36m(pid=22895)\u001b[0m done\n",
      "\u001b[2m\u001b[36m(pid=22897)\u001b[0m done\n",
      "\u001b[2m\u001b[36m(pid=22897)\u001b[0m done\n",
      "\u001b[2m\u001b[36m(pid=22892)\u001b[0m done\n",
      "\u001b[2m\u001b[36m(pid=22892)\u001b[0m done\n",
      "\u001b[2m\u001b[36m(pid=22896)\u001b[0m done\n",
      "\u001b[2m\u001b[36m(pid=22896)\u001b[0m done\n",
      "\u001b[2m\u001b[36m(pid=22900)\u001b[0m done\n",
      "\u001b[2m\u001b[36m(pid=22900)\u001b[0m done\n",
      "\u001b[2m\u001b[36m(pid=22901)\u001b[0m done\n",
      "\u001b[2m\u001b[36m(pid=22901)\u001b[0m done\n",
      "\u001b[2m\u001b[36m(pid=22899)\u001b[0m done\n",
      "\u001b[2m\u001b[36m(pid=22899)\u001b[0m done\n",
      "\u001b[2m\u001b[36m(pid=22893)\u001b[0m done\n",
      "\u001b[2m\u001b[36m(pid=22893)\u001b[0m done\n"
     ]
    }
   ],
   "source": [
    "ray.init(num_cpus=num_cpus)\n",
    "cell_counts_refs = []\n",
    "raw_cell_counts_ref = []\n",
    "for tweets_fpath, places_fpath in zip(tweets_files_paths, places_files_paths):\n",
    "    print(tweets_fpath)\n",
    "    places_geodf = data_access.return_json(places_fpath)\n",
    "    places_geodf = geo.make_places_geodf(places_geodf, shape_df, xy_proj=xy_proj)\n",
    "    max_area_mask = places_geodf['area'] < max_place_area\n",
    "    is_poi = places_geodf['area'] == 0\n",
    "    relevant_bbox = max_area_mask & (~is_poi)\n",
    "    cells_in_places = places_to_cells.get_intersect(\n",
    "        cells_geodf, places_geodf.loc[relevant_bbox])\n",
    "    print('places done')\n",
    "    access_gen = data_access.yield_tweets_access(tweets_fpath, size=1e9)\n",
    "    for i, df_access in enumerate(access_gen):\n",
    "        cell_counts_refs.append(remote_chunk_process.remote(df_access, cells_geodf, places_geodf,\n",
    "                                                            cells_in_places, lang))\n",
    "        ready, not_ready = ray.wait(cell_counts_refs, num_returns=len(cell_counts_refs), timeout=0.)\n",
    "        \n",
    "        if len(not_ready) > 1.5*num_cpus:\n",
    "            if len(ready) >= num_cpus:\n",
    "                print(f'combining {len(ready)} elements')\n",
    "                comb_list = ray.get(ready) + raw_cell_counts_ref\n",
    "                raw_cell_counts_ref = parallel.fast_combine(word_counts.combine_cell_counts, comb_list)\n",
    "                for r in ready:\n",
    "                    cell_counts_refs.remove(r)\n",
    "            print(f'waiting at iteration {i}, pending jobs: {len(not_ready)}')\n",
    "            _, _ = ray.wait(not_ready, num_returns=1)\n",
    "            print('waited')"
   ]
  },
  {
   "cell_type": "code",
   "execution_count": 31,
   "id": "organized-incidence",
   "metadata": {
    "scrolled": true
   },
   "outputs": [],
   "source": [
    "res = ray.get(cell_counts_refs)\n",
    "# res = []\n",
    "# for r in ready:\n",
    "#     try:\n",
    "#         res.append(ray.get(r))\n",
    "#     except:\n",
    "#         print('ho')"
   ]
  },
  {
   "cell_type": "code",
   "execution_count": 32,
   "id": "meaning-chicken",
   "metadata": {},
   "outputs": [],
   "source": [
    "comb_list = res + raw_cell_counts_ref\n",
    "raw_cell_counts_ref = parallel.fast_combine(word_counts.combine_cell_counts, comb_list)"
   ]
  },
  {
   "cell_type": "code",
   "execution_count": 33,
   "id": "rural-crack",
   "metadata": {},
   "outputs": [
    {
     "data": {
      "text/html": [
       "<div>\n",
       "<style scoped>\n",
       "    .dataframe tbody tr th:only-of-type {\n",
       "        vertical-align: middle;\n",
       "    }\n",
       "\n",
       "    .dataframe tbody tr th {\n",
       "        vertical-align: top;\n",
       "    }\n",
       "\n",
       "    .dataframe thead th {\n",
       "        text-align: right;\n",
       "    }\n",
       "</style>\n",
       "<table border=\"1\" class=\"dataframe\">\n",
       "  <thead>\n",
       "    <tr style=\"text-align: right;\">\n",
       "      <th></th>\n",
       "      <th></th>\n",
       "      <th>count</th>\n",
       "      <th>ratio</th>\n",
       "    </tr>\n",
       "    <tr>\n",
       "      <th>word</th>\n",
       "      <th>cell_id</th>\n",
       "      <th></th>\n",
       "      <th></th>\n",
       "    </tr>\n",
       "  </thead>\n",
       "  <tbody>\n",
       "    <tr>\n",
       "      <th rowspan=\"5\" valign=\"top\">A</th>\n",
       "      <th>AU.1017</th>\n",
       "      <td>0.041788</td>\n",
       "      <td>0.041788</td>\n",
       "    </tr>\n",
       "    <tr>\n",
       "      <th>AU.1018</th>\n",
       "      <td>2.687227</td>\n",
       "      <td>1.000000</td>\n",
       "    </tr>\n",
       "    <tr>\n",
       "      <th>AU.1019</th>\n",
       "      <td>0.059375</td>\n",
       "      <td>0.059375</td>\n",
       "    </tr>\n",
       "    <tr>\n",
       "      <th>AU.1020</th>\n",
       "      <td>2.000000</td>\n",
       "      <td>1.000000</td>\n",
       "    </tr>\n",
       "    <tr>\n",
       "      <th>AU.1021</th>\n",
       "      <td>2.000000</td>\n",
       "      <td>1.000000</td>\n",
       "    </tr>\n",
       "  </tbody>\n",
       "</table>\n",
       "</div>"
      ],
      "text/plain": [
       "                 count     ratio\n",
       "word cell_id                    \n",
       "A    AU.1017  0.041788  0.041788\n",
       "     AU.1018  2.687227  1.000000\n",
       "     AU.1019  0.059375  0.059375\n",
       "     AU.1020  2.000000  1.000000\n",
       "     AU.1021  2.000000  1.000000"
      ]
     },
     "execution_count": 33,
     "metadata": {},
     "output_type": "execute_result"
    }
   ],
   "source": [
    "raw_cell_counts = ray.get(raw_cell_counts_ref)[0]\n",
    "raw_cell_counts.head()"
   ]
  },
  {
   "cell_type": "code",
   "execution_count": 54,
   "id": "exact-savage",
   "metadata": {},
   "outputs": [],
   "source": [
    "ray.shutdown()"
   ]
  },
  {
   "cell_type": "markdown",
   "id": "international-wonder",
   "metadata": {},
   "source": [
    "# Aggregate counts"
   ]
  },
  {
   "cell_type": "code",
   "execution_count": 34,
   "id": "universal-barbados",
   "metadata": {},
   "outputs": [
    {
     "data": {
      "text/html": [
       "<div>\n",
       "<style scoped>\n",
       "    .dataframe tbody tr th:only-of-type {\n",
       "        vertical-align: middle;\n",
       "    }\n",
       "\n",
       "    .dataframe tbody tr th {\n",
       "        vertical-align: top;\n",
       "    }\n",
       "\n",
       "    .dataframe thead th {\n",
       "        text-align: right;\n",
       "    }\n",
       "</style>\n",
       "<table border=\"1\" class=\"dataframe\">\n",
       "  <thead>\n",
       "    <tr style=\"text-align: right;\">\n",
       "      <th></th>\n",
       "      <th>count</th>\n",
       "      <th>count_upper</th>\n",
       "      <th>nr_cells</th>\n",
       "    </tr>\n",
       "    <tr>\n",
       "      <th>word</th>\n",
       "      <th></th>\n",
       "      <th></th>\n",
       "      <th></th>\n",
       "    </tr>\n",
       "  </thead>\n",
       "  <tbody>\n",
       "    <tr>\n",
       "      <th>the</th>\n",
       "      <td>19208521</td>\n",
       "      <td>2381861</td>\n",
       "      <td>1285.164060</td>\n",
       "    </tr>\n",
       "    <tr>\n",
       "      <th>to</th>\n",
       "      <td>13261122</td>\n",
       "      <td>329472</td>\n",
       "      <td>1352.070070</td>\n",
       "    </tr>\n",
       "    <tr>\n",
       "      <th>i</th>\n",
       "      <td>12823261</td>\n",
       "      <td>11628614</td>\n",
       "      <td>1315.849685</td>\n",
       "    </tr>\n",
       "    <tr>\n",
       "      <th>a</th>\n",
       "      <td>12214239</td>\n",
       "      <td>999209</td>\n",
       "      <td>1299.087114</td>\n",
       "    </tr>\n",
       "    <tr>\n",
       "      <th>and</th>\n",
       "      <td>8524048</td>\n",
       "      <td>730860</td>\n",
       "      <td>1232.639048</td>\n",
       "    </tr>\n",
       "  </tbody>\n",
       "</table>\n",
       "</div>"
      ],
      "text/plain": [
       "         count  count_upper     nr_cells\n",
       "word                                    \n",
       "the   19208521      2381861  1285.164060\n",
       "to    13261122       329472  1352.070070\n",
       "i     12823261     11628614  1315.849685\n",
       "a     12214239       999209  1299.087114\n",
       "and    8524048       730860  1232.639048"
      ]
     },
     "execution_count": 34,
     "metadata": {},
     "output_type": "execute_result"
    }
   ],
   "source": [
    "region_counts = word_counts.get_reg_counts(raw_cell_counts)\n",
    "region_counts.head()"
   ]
  },
  {
   "cell_type": "code",
   "execution_count": 35,
   "id": "cooked-princess",
   "metadata": {},
   "outputs": [],
   "source": [
    "region_counts.to_parquet(proj_data_path / 'raw' / fname_fmt.format('region_counts'), index=True)"
   ]
  },
  {
   "cell_type": "code",
   "execution_count": 36,
   "id": "mobile-lucas",
   "metadata": {},
   "outputs": [
    {
     "data": {
      "text/html": [
       "<div>\n",
       "<style scoped>\n",
       "    .dataframe tbody tr th:only-of-type {\n",
       "        vertical-align: middle;\n",
       "    }\n",
       "\n",
       "    .dataframe tbody tr th {\n",
       "        vertical-align: top;\n",
       "    }\n",
       "\n",
       "    .dataframe thead th {\n",
       "        text-align: right;\n",
       "    }\n",
       "</style>\n",
       "<table border=\"1\" class=\"dataframe\">\n",
       "  <thead>\n",
       "    <tr style=\"text-align: right;\">\n",
       "      <th></th>\n",
       "      <th></th>\n",
       "      <th>count</th>\n",
       "    </tr>\n",
       "    <tr>\n",
       "      <th>word</th>\n",
       "      <th>cell_id</th>\n",
       "      <th></th>\n",
       "    </tr>\n",
       "  </thead>\n",
       "  <tbody>\n",
       "    <tr>\n",
       "      <th rowspan=\"5\" valign=\"top\">a</th>\n",
       "      <th>AU.1017</th>\n",
       "      <td>0.737203</td>\n",
       "    </tr>\n",
       "    <tr>\n",
       "      <th>AU.1018</th>\n",
       "      <td>23.874789</td>\n",
       "    </tr>\n",
       "    <tr>\n",
       "      <th>AU.1019</th>\n",
       "      <td>2.021416</td>\n",
       "    </tr>\n",
       "    <tr>\n",
       "      <th>AU.1020</th>\n",
       "      <td>3.000000</td>\n",
       "    </tr>\n",
       "    <tr>\n",
       "      <th>AU.1021</th>\n",
       "      <td>5.000000</td>\n",
       "    </tr>\n",
       "  </tbody>\n",
       "</table>\n",
       "</div>"
      ],
      "text/plain": [
       "                  count\n",
       "word cell_id           \n",
       "a    AU.1017   0.737203\n",
       "     AU.1018  23.874789\n",
       "     AU.1019   2.021416\n",
       "     AU.1020   3.000000\n",
       "     AU.1021   5.000000"
      ]
     },
     "execution_count": 36,
     "metadata": {},
     "output_type": "execute_result"
    }
   ],
   "source": [
    "raw_cell_counts = word_counts.agg_by_lower(raw_cell_counts)\n",
    "raw_cell_counts.head()"
   ]
  },
  {
   "cell_type": "code",
   "execution_count": 52,
   "id": "frank-signature",
   "metadata": {},
   "outputs": [
    {
     "name": "stdout",
     "output_type": "stream",
     "text": [
      "Keeping 286 cells out of 1478 with threshold 1.00e+04\n",
      "We had 553142445 tokens, and filtering brought it down to 504196919, so we lost 8.85%.\n"
     ]
    }
   ],
   "source": [
    "cell_counts, region_counts = word_counts.filter_cell_counts(\n",
    "    raw_cell_counts, region_counts, \n",
    "    upper_th=upper_th, \n",
    "    cell_tokens_decade_crit=cell_tokens_decade_crit,\n",
    "    min_nr_cells=min(min_nr_cells, cells_geodf.shape[0]))"
   ]
  },
  {
   "cell_type": "code",
   "execution_count": 53,
   "id": "actual-thirty",
   "metadata": {},
   "outputs": [
    {
     "data": {
      "text/plain": [
       "<AxesSubplot:>"
      ]
     },
     "execution_count": 53,
     "metadata": {},
     "output_type": "execute_result"
    },
    {
     "data": {
      "image/png": "[encoded data removed]",
      "text/plain": [
       "<Figure size 432x288 with 1 Axes>"
      ]
     },
     "metadata": {
      "needs_background": "light"
     },
     "output_type": "display_data"
    }
   ],
   "source": [
    "cells_geodf.loc[cell_counts.index.levels[cell_counts.index.names.index('cell_id')]].plot()"
   ]
  },
  {
   "cell_type": "code",
   "execution_count": 55,
   "id": "outer-stephen",
   "metadata": {},
   "outputs": [],
   "source": [
    "raw_cell_counts.to_parquet(proj_data_path / 'raw' / fname_fmt.format('raw_cell_counts'), index=True)\n",
    "cell_counts.to_parquet(proj_data_path / 'raw' / fname_fmt.format('cell_counts'), index=True)"
   ]
  },
  {
   "cell_type": "code",
   "execution_count": 60,
   "id": "dress-lexington",
   "metadata": {},
   "outputs": [],
   "source": [
    "prior_mask = (~region_counts['is_proper']) & region_counts['nr_cell_mask']\n",
    "cdf_mask = (region_counts.loc[prior_mask, 'count'] / region_counts.loc[prior_mask, 'count'].sum()).cumsum() < 0.99\n",
    "mask = (cdf_mask & prior_mask).reindex(prior_mask.index)\n",
    "word_vectors = word_counts.to_vectors(cell_counts, mask)\n",
    "word_vectors = word_counts.vec_to_metric(word_vectors,\n",
    "                                         region_counts.loc[mask],\n",
    "                                         word_vec_var='polar')"
   ]
  },
  {
   "cell_type": "code",
   "execution_count": 61,
   "id": "common-pollution",
   "metadata": {},
   "outputs": [
    {
     "data": {
      "image/png": "[encoded data removed]",
      "text/plain": [
       "<Figure size 432x288 with 1 Axes>"
      ]
     },
     "metadata": {
      "needs_background": "light"
     },
     "output_type": "display_data"
    }
   ],
   "source": [
    "iloc_word = list(mask.loc[mask].index).index('have')\n",
    "fig, ax = plt.subplots(1)\n",
    "_, _, patches = ax.hist(word_vectors[:, iloc_word], bins=20)"
   ]
  },
  {
   "cell_type": "markdown",
   "id": "rapid-filling",
   "metadata": {},
   "source": [
    "# Moran"
   ]
  },
  {
   "cell_type": "code",
   "execution_count": 468,
   "id": "raised-architect",
   "metadata": {},
   "outputs": [],
   "source": [
    "relevant_cells = cell_counts.index.levels[cell_counts.index.names.index('cell_id')]\n",
    "contiguity = libpysal.weights.Queen.from_dataframe(cells_geodf.loc[relevant_cells])\n",
    "contiguity.transform = 'r'"
   ]
  },
  {
   "cell_type": "code",
   "execution_count": 469,
   "id": "approved-cedar",
   "metadata": {},
   "outputs": [
    {
     "name": "stderr",
     "output_type": "stream",
     "text": [
      "2021-02-26 15:27:45,352\tINFO services.py:1174 -- View the Ray dashboard at \u001b[1m\u001b[32mhttp://127.0.0.1:8266\u001b[39m\u001b[22m\n"
     ]
    }
   ],
   "source": [
    "num_cpus = 4\n",
    "ray.init(num_cpus=num_cpus)\n",
    "num_morans = word_vectors.shape[1]\n",
    "shared_word_vectors = ray.put(word_vectors)\n",
    "obj_refs = parallel.split_task(data_clustering.chunk_moran, num_cpus,\n",
    "                               list(range(num_morans)), shared_word_vectors, contiguity)\n",
    "res = ray.get(obj_refs)\n",
    "moran_dict = res[0]\n",
    "for m_dict in res[1:]:\n",
    "    for key, value in m_dict.items():\n",
    "        moran_dict[key].extend(value)"
   ]
  },
  {
   "cell_type": "code",
   "execution_count": 413,
   "id": "interim-branch",
   "metadata": {},
   "outputs": [],
   "source": [
    "region_counts = region_counts.join(pd.DataFrame.from_dict(moran_dict).set_index(region_counts.loc[prior_mask].loc[cdf_mask].index[:num_morans]))"
   ]
  },
  {
   "cell_type": "code",
   "execution_count": 503,
   "id": "guided-affiliation",
   "metadata": {},
   "outputs": [
    {
     "data": {
      "text/html": [
       "<div>\n",
       "<style scoped>\n",
       "    .dataframe tbody tr th:only-of-type {\n",
       "        vertical-align: middle;\n",
       "    }\n",
       "\n",
       "    .dataframe tbody tr th {\n",
       "        vertical-align: top;\n",
       "    }\n",
       "\n",
       "    .dataframe thead th {\n",
       "        text-align: right;\n",
       "    }\n",
       "</style>\n",
       "<table border=\"1\" class=\"dataframe\">\n",
       "  <thead>\n",
       "    <tr style=\"text-align: right;\">\n",
       "      <th></th>\n",
       "      <th>count_upper</th>\n",
       "      <th>count</th>\n",
       "      <th>nr_cells</th>\n",
       "      <th>is_proper</th>\n",
       "      <th>nr_cell_mask</th>\n",
       "      <th>I</th>\n",
       "      <th>z_value</th>\n",
       "      <th>p_value</th>\n",
       "    </tr>\n",
       "    <tr>\n",
       "      <th>word</th>\n",
       "      <th></th>\n",
       "      <th></th>\n",
       "      <th></th>\n",
       "      <th></th>\n",
       "      <th></th>\n",
       "      <th></th>\n",
       "      <th></th>\n",
       "      <th></th>\n",
       "    </tr>\n",
       "  </thead>\n",
       "  <tbody>\n",
       "    <tr>\n",
       "      <th>is</th>\n",
       "      <td>24125</td>\n",
       "      <td>437524</td>\n",
       "      <td>46</td>\n",
       "      <td>False</td>\n",
       "      <td>True</td>\n",
       "      <td>0.597490</td>\n",
       "      <td>6.261015</td>\n",
       "      <td>0.001</td>\n",
       "    </tr>\n",
       "    <tr>\n",
       "      <th>with</th>\n",
       "      <td>7623</td>\n",
       "      <td>227245</td>\n",
       "      <td>46</td>\n",
       "      <td>False</td>\n",
       "      <td>True</td>\n",
       "      <td>0.544524</td>\n",
       "      <td>5.616593</td>\n",
       "      <td>0.001</td>\n",
       "    </tr>\n",
       "    <tr>\n",
       "      <th>have</th>\n",
       "      <td>15796</td>\n",
       "      <td>190919</td>\n",
       "      <td>46</td>\n",
       "      <td>False</td>\n",
       "      <td>True</td>\n",
       "      <td>0.564684</td>\n",
       "      <td>5.917284</td>\n",
       "      <td>0.001</td>\n",
       "    </tr>\n",
       "    <tr>\n",
       "      <th>was</th>\n",
       "      <td>9365</td>\n",
       "      <td>186368</td>\n",
       "      <td>45</td>\n",
       "      <td>False</td>\n",
       "      <td>True</td>\n",
       "      <td>0.547882</td>\n",
       "      <td>5.671327</td>\n",
       "      <td>0.001</td>\n",
       "    </tr>\n",
       "    <tr>\n",
       "      <th>are</th>\n",
       "      <td>11073</td>\n",
       "      <td>180833</td>\n",
       "      <td>46</td>\n",
       "      <td>False</td>\n",
       "      <td>True</td>\n",
       "      <td>0.491163</td>\n",
       "      <td>5.135618</td>\n",
       "      <td>0.001</td>\n",
       "    </tr>\n",
       "    <tr>\n",
       "      <th>...</th>\n",
       "      <td>...</td>\n",
       "      <td>...</td>\n",
       "      <td>...</td>\n",
       "      <td>...</td>\n",
       "      <td>...</td>\n",
       "      <td>...</td>\n",
       "      <td>...</td>\n",
       "      <td>...</td>\n",
       "    </tr>\n",
       "    <tr>\n",
       "      <th>vocally</th>\n",
       "      <td>1</td>\n",
       "      <td>21</td>\n",
       "      <td>18</td>\n",
       "      <td>False</td>\n",
       "      <td>True</td>\n",
       "      <td>0.596515</td>\n",
       "      <td>6.514773</td>\n",
       "      <td>0.001</td>\n",
       "    </tr>\n",
       "    <tr>\n",
       "      <th>likeminded</th>\n",
       "      <td>0</td>\n",
       "      <td>21</td>\n",
       "      <td>21</td>\n",
       "      <td>False</td>\n",
       "      <td>True</td>\n",
       "      <td>0.439299</td>\n",
       "      <td>5.122707</td>\n",
       "      <td>0.002</td>\n",
       "    </tr>\n",
       "    <tr>\n",
       "      <th>moaners</th>\n",
       "      <td>1</td>\n",
       "      <td>21</td>\n",
       "      <td>23</td>\n",
       "      <td>False</td>\n",
       "      <td>True</td>\n",
       "      <td>0.456165</td>\n",
       "      <td>5.046692</td>\n",
       "      <td>0.001</td>\n",
       "    </tr>\n",
       "    <tr>\n",
       "      <th>sartorial</th>\n",
       "      <td>1</td>\n",
       "      <td>20</td>\n",
       "      <td>24</td>\n",
       "      <td>False</td>\n",
       "      <td>True</td>\n",
       "      <td>0.482594</td>\n",
       "      <td>5.289926</td>\n",
       "      <td>0.001</td>\n",
       "    </tr>\n",
       "    <tr>\n",
       "      <th>unis</th>\n",
       "      <td>9</td>\n",
       "      <td>20</td>\n",
       "      <td>19</td>\n",
       "      <td>False</td>\n",
       "      <td>True</td>\n",
       "      <td>0.487966</td>\n",
       "      <td>5.349188</td>\n",
       "      <td>0.001</td>\n",
       "    </tr>\n",
       "  </tbody>\n",
       "</table>\n",
       "<p>2977 rows × 8 columns</p>\n",
       "</div>"
      ],
      "text/plain": [
       "            count_upper   count  nr_cells  is_proper  nr_cell_mask         I  \\\n",
       "word                                                                           \n",
       "is                24125  437524        46      False          True  0.597490   \n",
       "with               7623  227245        46      False          True  0.544524   \n",
       "have              15796  190919        46      False          True  0.564684   \n",
       "was                9365  186368        45      False          True  0.547882   \n",
       "are               11073  180833        46      False          True  0.491163   \n",
       "...                 ...     ...       ...        ...           ...       ...   \n",
       "vocally               1      21        18      False          True  0.596515   \n",
       "likeminded            0      21        21      False          True  0.439299   \n",
       "moaners               1      21        23      False          True  0.456165   \n",
       "sartorial             1      20        24      False          True  0.482594   \n",
       "unis                  9      20        19      False          True  0.487966   \n",
       "\n",
       "             z_value  p_value  \n",
       "word                           \n",
       "is          6.261015    0.001  \n",
       "with        5.616593    0.001  \n",
       "have        5.917284    0.001  \n",
       "was         5.671327    0.001  \n",
       "are         5.135618    0.001  \n",
       "...              ...      ...  \n",
       "vocally     6.514773    0.001  \n",
       "likeminded  5.122707    0.002  \n",
       "moaners     5.046692    0.001  \n",
       "sartorial   5.289926    0.001  \n",
       "unis        5.349188    0.001  \n",
       "\n",
       "[2977 rows x 8 columns]"
      ]
     },
     "execution_count": 503,
     "metadata": {},
     "output_type": "execute_result"
    }
   ],
   "source": [
    "region_counts.loc[(region_counts['p_value'] < 0.01) & (region_counts['z_value'] > 5)]"
   ]
  },
  {
   "cell_type": "code",
   "execution_count": 506,
   "id": "angry-player",
   "metadata": {},
   "outputs": [],
   "source": [
    "region_counts.to_parquet(proj_data_path / 'raw' / fname_fmt.format('region_counts'), index=True)"
   ]
  },
  {
   "cell_type": "code",
   "execution_count": null,
   "id": "young-choice",
   "metadata": {},
   "outputs": [],
   "source": []
  }
 ],
 "metadata": {
  "kernelspec": {
   "display_name": "Python (myenv)",
   "language": "python",
   "name": ".cenv"
  },
  "language_info": {
   "codemirror_mode": {
    "name": "ipython",
    "version": 3
   },
   "file_extension": ".py",
   "mimetype": "text/x-python",
   "name": "python",
   "nbconvert_exporter": "python",
   "pygments_lexer": "ipython3",
   "version": "3.7.9"
  },
  "toc-autonumbering": true
 },
 "nbformat": 4,
 "nbformat_minor": 5
}
