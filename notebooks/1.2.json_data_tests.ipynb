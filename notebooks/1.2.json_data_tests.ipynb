{
 "cells": [
  {
   "cell_type": "code",
   "execution_count": 1,
   "id": "fb561331",
   "metadata": {},
   "outputs": [
    {
     "name": "stdout",
     "output_type": "stream",
     "text": [
      "The autoreload extension is already loaded. To reload it, use:\n",
      "  %reload_ext autoreload\n"
     ]
    }
   ],
   "source": [
    "# Reload all src modules every time before executing the Python code typed\n",
    "%load_ext autoreload\n",
    "%autoreload 2"
   ]
  },
  {
   "cell_type": "code",
   "execution_count": 9,
   "id": "f9c0af12",
   "metadata": {},
   "outputs": [
    {
     "data": {
      "text/plain": [
       "True"
      ]
     },
     "execution_count": 9,
     "metadata": {},
     "output_type": "execute_result"
    }
   ],
   "source": [
    "import pickle\n",
    "import re\n",
    "import json\n",
    "import cProfile\n",
    "from tqdm import tqdm\n",
    "from pathlib import Path\n",
    "import matplotlib.pyplot as plt\n",
    "import ray\n",
    "import numpy as np\n",
    "import geopandas as geopd\n",
    "import pandas as pd\n",
    "import src.data.access as data_access\n",
    "import src.data.us_specific as us_data\n",
    "import src.utils.paths as paths_utils\n",
    "import src.utils.geometry as geo\n",
    "import src.utils.places_to_cells as places_to_cells\n",
    "import src.utils.parallel as parallel\n",
    "import src.data.text_process as text_process\n",
    "import src.data.word_counts as word_counts\n",
    "import src.data.clustering as data_clustering\n",
    "from src.dialects import Region \n",
    "from dotenv import load_dotenv\n",
    "import libpysal\n",
    "import esda\n",
    "load_dotenv()"
   ]
  },
  {
   "cell_type": "code",
   "execution_count": 2,
   "id": "fc4f50b2",
   "metadata": {},
   "outputs": [],
   "source": [
    "paths = paths_utils.ProjectPaths()\n",
    "source_path_fmt = paths.source_fmt\n",
    "ext_data_path = paths.ext_data\n",
    "with open(ext_data_path / 'countries.json') as f:\n",
    "    countries_dict = json.load(f)\n",
    "state_fpath = str(paths.shp_file_fmt).format('cb_2018_us_state_5m')\n",
    "cnty_fpath = str(paths.shp_file_fmt).format('cb_2018_us_county_5m')\n",
    "us_dict = countries_dict['US']\n",
    "us_dict['shape_geodf'] = us_data.get_states_geodf(\n",
    "    state_fpath, xy_proj=countries_dict['US']['xy_proj'])\n",
    "us_dict['cells_geodf'] = us_data.get_counties_geodf(\n",
    "    cnty_fpath, us_dict['shape_geodf'],\n",
    "    xy_proj=countries_dict['US']['xy_proj'])\n",
    "us_dict['cell_size'] = 'county'\n",
    "\n",
    "all_cntr_shapes = geopd.read_file(paths.ext_data\n",
    "                                  / 'CNTR_RG_01M_2016_4326.shp'\n",
    "                                  / 'CNTR_RG_01M_2016_4326.shp')"
   ]
  },
  {
   "cell_type": "code",
   "execution_count": 8,
   "id": "fdf5d354",
   "metadata": {},
   "outputs": [],
   "source": [
    "lang='fr'\n",
    "cc = 'CA'\n",
    "reg_dict = countries_dict['CA']\n",
    "reg = Region.from_dict(cc, lang, reg_dict)\n",
    "_ = reg.get_shape_geodf(all_cntr_shapes=all_cntr_shapes)"
   ]
  },
  {
   "cell_type": "code",
   "execution_count": null,
   "id": "4300ae72",
   "metadata": {
    "scrolled": true
   },
   "outputs": [
    {
     "data": {
      "text/plain": [
       "{'AO': 'Angola',\n",
       " 'AG': 'Antigua and Barbuda',\n",
       " 'AU': 'Australia',\n",
       " 'BE': 'Belgium',\n",
       " 'BO': 'Bolivia',\n",
       " 'BR': 'Brazil',\n",
       " 'BZ': 'Belize',\n",
       " 'CA': 'Canada',\n",
       " 'CG': 'Congo',\n",
       " 'CH': 'Switzerland',\n",
       " 'CL': 'Chile',\n",
       " 'CR': 'Costa Rica',\n",
       " 'CO': 'Colombia',\n",
       " 'CM': 'Cameroon',\n",
       " 'ES': 'Spain',\n",
       " 'DO': 'Dominican Republic',\n",
       " 'DZ': 'Algeria',\n",
       " 'EC': 'Ecuador',\n",
       " 'EE': 'Estonia',\n",
       " 'CU': 'Cuba',\n",
       " 'EG': 'Egypt',\n",
       " 'CV': 'Cape Verde',\n",
       " 'CY': 'Cyprus',\n",
       " 'FR': 'France',\n",
       " 'FI': 'Finland',\n",
       " 'HK': 'Hong Kong',\n",
       " 'HN': 'Honduras',\n",
       " 'GQ': 'Equatorial Guinea',\n",
       " 'GT': 'Guatemala',\n",
       " 'HT': 'Haiti',\n",
       " 'GW': 'Guinea-Bissau',\n",
       " 'ID': 'Indonesia',\n",
       " 'IE': 'Ireland',\n",
       " 'IN': 'India',\n",
       " 'IL': 'Israel',\n",
       " 'LB': 'Lebanon',\n",
       " 'LT': 'Lithuania',\n",
       " 'JM': 'Jamaica',\n",
       " 'LU': 'Luxembourg',\n",
       " 'LV': 'Latvia',\n",
       " 'MX': 'Mexico',\n",
       " 'MY': 'Malaysia',\n",
       " 'MG': 'Madagascar',\n",
       " 'NG': 'Nigeria',\n",
       " 'NI': 'Nicaragua',\n",
       " 'MA': 'Morocco',\n",
       " 'MZ': 'Mozambique',\n",
       " 'PA': 'Panama',\n",
       " 'PE': 'Peru',\n",
       " 'PF': 'French Polynesia',\n",
       " 'PG': 'Papua New Guinea',\n",
       " 'PK': 'Pakistan',\n",
       " 'NZ': 'New Zealand',\n",
       " 'RO': 'Romania',\n",
       " 'PT': 'Portugal',\n",
       " 'PY': 'Paraguay',\n",
       " 'SV': 'El Salvador',\n",
       " 'TL': 'Timor-Leste',\n",
       " 'UA': 'Ukraine',\n",
       " 'TN': 'Tunisia',\n",
       " 'SG': 'Singapore',\n",
       " 'ZA': 'South Africa',\n",
       " 'US': 'United States',\n",
       " 'UY': 'Uruguay',\n",
       " 'VE': 'Venezuela'}"
      ]
     },
     "metadata": {},
     "output_type": "display_data"
    }
   ],
   "source": [
    "all_cc = set()\n",
    "for f in source_path_fmt.parent.iterdir():\n",
    "    regex = source_path_fmt.name.format(**{'kind': 'tweets', 'from': '[0-9]{4}', 'to': '[0-9]{4}', 'cc': '([A-Z]{2})'})\n",
    "    new_cc = re.match(regex, f.name)\n",
    "    if new_cc:\n",
    "        all_cc.add(new_cc.groups()[0])\n",
    "mask = all_cntr_shape_df['FID'].isin(all_cc)\n",
    "dict(zip(all_cntr_shape_df.loc[mask, 'FID'], all_cntr_shape_df.loc[mask, 'NAME_ENGL']))"
   ]
  },
  {
   "cell_type": "markdown",
   "id": "d14f4c7d",
   "metadata": {},
   "source": [
    "# Config"
   ]
  },
  {
   "cell_type": "code",
   "execution_count": 4,
   "id": "a3b1d543",
   "metadata": {},
   "outputs": [],
   "source": [
    "paths = paths_utils.ProjectPaths()\n",
    "with open(paths.ext_data / 'countries.json') as f:\n",
    "    countries_dict = json.load(f)\n",
    "all_cntr_shapes = geopd.read_file(paths.ext_data / 'CNTR_RG_01M_2016_4326.shp' / 'CNTR_RG_01M_2016_4326.shp')"
   ]
  },
  {
   "cell_type": "code",
   "execution_count": 6,
   "id": "b24148c9",
   "metadata": {
    "tags": []
   },
   "outputs": [],
   "source": [
    "num_cpus = 8\n",
    "min_nr_cells = 3\n",
    "upper_th = 0.4"
   ]
  },
  {
   "cell_type": "code",
   "execution_count": 6,
   "id": "fbc4b34e",
   "metadata": {},
   "outputs": [],
   "source": [
    "params_dict = {'cc': cc, 'kind': 'tweets'}\n",
    "format_dicts = [{**params_dict, **{'from': m.group('from'), 'to': m.group('to')}}\n",
    "                for m in paths_utils.yield_paramed_matches(paths.source_fmt, params_dict)]\n",
    "tweets_files_paths = [\n",
    "    Path(str(paths.source_fmt).format(**f_dict))\n",
    "    for f_dict in format_dicts]\n",
    "places_files_paths = [\n",
    "    Path(str(paths.source_fmt).format(**{**f_dict, **{'kind': 'places'}}))\n",
    "    for f_dict in format_dicts]"
   ]
  },
  {
   "cell_type": "code",
   "execution_count": 8,
   "id": "3b17d5f9",
   "metadata": {},
   "outputs": [
    {
     "data": {
      "text/plain": [
       "<AxesSubplot:>"
      ]
     },
     "execution_count": 8,
     "metadata": {},
     "output_type": "execute_result"
    },
    {
     "data": {
      "image/png": "[encoded data removed]",
      "text/plain": [
       "<Figure size 432x288 with 1 Axes>"
      ]
     },
     "metadata": {
      "needs_background": "light"
     },
     "output_type": "display_data"
    }
   ],
   "source": [
    "shape_geodf = reg.get_shape_geodf(all_cntr_shapes=all_cntr_shapes)\n",
    "shape_geodf.plot()"
   ]
  },
  {
   "cell_type": "code",
   "execution_count": 9,
   "id": "938b9132",
   "metadata": {},
   "outputs": [
    {
     "data": {
      "text/plain": [
       "<AxesSubplot:>"
      ]
     },
     "execution_count": 9,
     "metadata": {},
     "output_type": "execute_result"
    },
    {
     "data": {
      "image/png": "[encoded data removed]",
      "text/plain": [
       "<Figure size 432x288 with 1 Axes>"
      ]
     },
     "metadata": {
      "needs_background": "light"
     },
     "output_type": "display_data"
    }
   ],
   "source": [
    "cells_geodf = reg.get_cells_geodf()\n",
    "cells_geodf.plot()"
   ]
  },
  {
   "cell_type": "code",
   "execution_count": 10,
   "id": "02415f16",
   "metadata": {},
   "outputs": [
    {
     "name": "stderr",
     "output_type": "stream",
     "text": [
      "/home/thomaslouf/Documents/code/words-use/src/utils/geometry.py:236: UserWarning: Geometry is in a geographic CRS. Results from 'centroid' are likely incorrect. Use 'GeoSeries.to_crs()' to re-project geometries to a projected CRS before this operation.\n",
      "\n",
      "  geometry=places_geodf[['geometry']].centroid, crs=latlon_proj)\n"
     ]
    }
   ],
   "source": [
    "places_geodf = data_access.return_json(places_files_paths[1])\n",
    "places_geodf = geo.make_places_geodf(places_geodf, reg.shape_geodf, xy_proj=reg.xy_proj)"
   ]
  },
  {
   "cell_type": "markdown",
   "id": "85ec00e2",
   "metadata": {},
   "source": [
    "reminder: newly created GB cells geodf has GB index prefix, whereas previous data has UK prefix"
   ]
  },
  {
   "cell_type": "code",
   "execution_count": 11,
   "id": "4bfed2f3",
   "metadata": {},
   "outputs": [
    {
     "data": {
      "text/html": [
       "<div>\n",
       "<style scoped>\n",
       "    .dataframe tbody tr th:only-of-type {\n",
       "        vertical-align: middle;\n",
       "    }\n",
       "\n",
       "    .dataframe tbody tr th {\n",
       "        vertical-align: top;\n",
       "    }\n",
       "\n",
       "    .dataframe thead th {\n",
       "        text-align: right;\n",
       "    }\n",
       "</style>\n",
       "<table border=\"1\" class=\"dataframe\">\n",
       "  <thead>\n",
       "    <tr style=\"text-align: right;\">\n",
       "      <th></th>\n",
       "      <th>attributes</th>\n",
       "      <th>country</th>\n",
       "      <th>country_code</th>\n",
       "      <th>full_name</th>\n",
       "      <th>name</th>\n",
       "      <th>place_type</th>\n",
       "      <th>url</th>\n",
       "      <th>min_lon</th>\n",
       "      <th>min_lat</th>\n",
       "      <th>max_lon</th>\n",
       "      <th>max_lat</th>\n",
       "      <th>geometry</th>\n",
       "      <th>area</th>\n",
       "    </tr>\n",
       "    <tr>\n",
       "      <th>place_id</th>\n",
       "      <th></th>\n",
       "      <th></th>\n",
       "      <th></th>\n",
       "      <th></th>\n",
       "      <th></th>\n",
       "      <th></th>\n",
       "      <th></th>\n",
       "      <th></th>\n",
       "      <th></th>\n",
       "      <th></th>\n",
       "      <th></th>\n",
       "      <th></th>\n",
       "      <th></th>\n",
       "    </tr>\n",
       "  </thead>\n",
       "  <tbody>\n",
       "    <tr>\n",
       "      <th>3da6b5ad7b0af478</th>\n",
       "      <td>{}</td>\n",
       "      <td>France</td>\n",
       "      <td>FR</td>\n",
       "      <td>Provence-Alpes-Côte d'Azur, France</td>\n",
       "      <td>Provence-Alpes-Côte d'Azur</td>\n",
       "      <td>admin</td>\n",
       "      <td>https://api.twitter.com/1.1/geo/id/3da6b5ad7b0...</td>\n",
       "      <td>4.227197</td>\n",
       "      <td>42.982218</td>\n",
       "      <td>7.719208</td>\n",
       "      <td>45.126494</td>\n",
       "      <td>POLYGON ((800182.927 6209984.989, 796480.132 6...</td>\n",
       "      <td>4.759828e+10</td>\n",
       "    </tr>\n",
       "    <tr>\n",
       "      <th>8e0da10618d1836b</th>\n",
       "      <td>{}</td>\n",
       "      <td>France</td>\n",
       "      <td>FR</td>\n",
       "      <td>Champagne-Ardenne, France</td>\n",
       "      <td>Champagne-Ardenne</td>\n",
       "      <td>admin</td>\n",
       "      <td>https://api.twitter.com/1.1/geo/id/8e0da10618d...</td>\n",
       "      <td>3.383476</td>\n",
       "      <td>47.576559</td>\n",
       "      <td>5.890715</td>\n",
       "      <td>50.169192</td>\n",
       "      <td>POLYGON ((728827.854 6719645.871, 727427.663 7...</td>\n",
       "      <td>4.760856e+10</td>\n",
       "    </tr>\n",
       "    <tr>\n",
       "      <th>60c859887b142d5f</th>\n",
       "      <td>{}</td>\n",
       "      <td>France</td>\n",
       "      <td>FR</td>\n",
       "      <td>Burgundy, France</td>\n",
       "      <td>Burgundy</td>\n",
       "      <td>admin</td>\n",
       "      <td>https://api.twitter.com/1.1/geo/id/60c859887b1...</td>\n",
       "      <td>2.844774</td>\n",
       "      <td>46.156060</td>\n",
       "      <td>5.518937</td>\n",
       "      <td>48.400155</td>\n",
       "      <td>POLYGON ((688020.679 6561816.198, 688510.740 6...</td>\n",
       "      <td>5.038540e+10</td>\n",
       "    </tr>\n",
       "    <tr>\n",
       "      <th>8aee614456e63150</th>\n",
       "      <td>{}</td>\n",
       "      <td>France</td>\n",
       "      <td>FR</td>\n",
       "      <td>Languedoc-Roussillon, France</td>\n",
       "      <td>Languedoc-Roussillon</td>\n",
       "      <td>admin</td>\n",
       "      <td>https://api.twitter.com/1.1/geo/id/8aee614456e...</td>\n",
       "      <td>1.688810</td>\n",
       "      <td>42.332962</td>\n",
       "      <td>4.845444</td>\n",
       "      <td>44.975842</td>\n",
       "      <td>POLYGON ((591761.776 6137890.214, 596639.244 6...</td>\n",
       "      <td>5.694997e+10</td>\n",
       "    </tr>\n",
       "    <tr>\n",
       "      <th>b86046fc346196ea</th>\n",
       "      <td>{}</td>\n",
       "      <td>France</td>\n",
       "      <td>FR</td>\n",
       "      <td>Pays de la Loire, France</td>\n",
       "      <td>Pays de la Loire</td>\n",
       "      <td>admin</td>\n",
       "      <td>https://api.twitter.com/1.1/geo/id/b86046fc346...</td>\n",
       "      <td>-2.559194</td>\n",
       "      <td>46.266641</td>\n",
       "      <td>0.916493</td>\n",
       "      <td>48.568090</td>\n",
       "      <td>POLYGON ((272195.882 6589150.186, 290181.570 6...</td>\n",
       "      <td>6.136322e+10</td>\n",
       "    </tr>\n",
       "    <tr>\n",
       "      <th>807d76bc84f359c7</th>\n",
       "      <td>{}</td>\n",
       "      <td>France</td>\n",
       "      <td>FR</td>\n",
       "      <td>Centre, France</td>\n",
       "      <td>Centre</td>\n",
       "      <td>admin</td>\n",
       "      <td>https://api.twitter.com/1.1/geo/id/807d76bc84f...</td>\n",
       "      <td>0.052323</td>\n",
       "      <td>46.347028</td>\n",
       "      <td>3.128597</td>\n",
       "      <td>48.941078</td>\n",
       "      <td>POLYGON ((473361.857 6587242.507, 484118.729 6...</td>\n",
       "      <td>6.655277e+10</td>\n",
       "    </tr>\n",
       "    <tr>\n",
       "      <th>771dd147cda1a16a</th>\n",
       "      <td>{}</td>\n",
       "      <td>France</td>\n",
       "      <td>FR</td>\n",
       "      <td>Rhône-Alpes, France</td>\n",
       "      <td>Rhône-Alpes</td>\n",
       "      <td>admin</td>\n",
       "      <td>https://api.twitter.com/1.1/geo/id/771dd147cda...</td>\n",
       "      <td>3.688350</td>\n",
       "      <td>44.115377</td>\n",
       "      <td>7.185481</td>\n",
       "      <td>46.519823</td>\n",
       "      <td>POLYGON ((755097.483 6335392.677, 752769.531 6...</td>\n",
       "      <td>6.676023e+10</td>\n",
       "    </tr>\n",
       "    <tr>\n",
       "      <th>8e73e1421b45f5e8</th>\n",
       "      <td>{}</td>\n",
       "      <td>France</td>\n",
       "      <td>FR</td>\n",
       "      <td>Aquitaine, France</td>\n",
       "      <td>Aquitaine</td>\n",
       "      <td>admin</td>\n",
       "      <td>https://api.twitter.com/1.1/geo/id/8e73e1421b4...</td>\n",
       "      <td>-1.793003</td>\n",
       "      <td>42.777744</td>\n",
       "      <td>1.448288</td>\n",
       "      <td>45.714572</td>\n",
       "      <td>POLYGON ((307565.595 6198382.192, 327360.296 6...</td>\n",
       "      <td>6.991998e+10</td>\n",
       "    </tr>\n",
       "    <tr>\n",
       "      <th>829cf2c4a7c5251d</th>\n",
       "      <td>{}</td>\n",
       "      <td>France</td>\n",
       "      <td>FR</td>\n",
       "      <td>Midi-Pyrénées, France</td>\n",
       "      <td>Midi-Pyrénées</td>\n",
       "      <td>admin</td>\n",
       "      <td>https://api.twitter.com/1.1/geo/id/829cf2c4a7c...</td>\n",
       "      <td>-0.327343</td>\n",
       "      <td>42.571641</td>\n",
       "      <td>3.451728</td>\n",
       "      <td>45.046506</td>\n",
       "      <td>POLYGON ((426516.351 6169307.329, 438102.624 6...</td>\n",
       "      <td>7.859051e+10</td>\n",
       "    </tr>\n",
       "    <tr>\n",
       "      <th>f3bfc7dcc928977f</th>\n",
       "      <td>{}</td>\n",
       "      <td>France</td>\n",
       "      <td>FR</td>\n",
       "      <td>France</td>\n",
       "      <td>France</td>\n",
       "      <td>country</td>\n",
       "      <td>https://api.twitter.com/1.1/geo/id/f3bfc7dcc92...</td>\n",
       "      <td>-5.141593</td>\n",
       "      <td>41.364659</td>\n",
       "      <td>9.559831</td>\n",
       "      <td>51.088771</td>\n",
       "      <td>POLYGON ((17979.184 6064387.353, 129257.794 71...</td>\n",
       "      <td>5.481221e+11</td>\n",
       "    </tr>\n",
       "  </tbody>\n",
       "</table>\n",
       "</div>"
      ],
      "text/plain": [
       "                 attributes country country_code  \\\n",
       "place_id                                           \n",
       "3da6b5ad7b0af478         {}  France           FR   \n",
       "8e0da10618d1836b         {}  France           FR   \n",
       "60c859887b142d5f         {}  France           FR   \n",
       "8aee614456e63150         {}  France           FR   \n",
       "b86046fc346196ea         {}  France           FR   \n",
       "807d76bc84f359c7         {}  France           FR   \n",
       "771dd147cda1a16a         {}  France           FR   \n",
       "8e73e1421b45f5e8         {}  France           FR   \n",
       "829cf2c4a7c5251d         {}  France           FR   \n",
       "f3bfc7dcc928977f         {}  France           FR   \n",
       "\n",
       "                                           full_name  \\\n",
       "place_id                                               \n",
       "3da6b5ad7b0af478  Provence-Alpes-Côte d'Azur, France   \n",
       "8e0da10618d1836b           Champagne-Ardenne, France   \n",
       "60c859887b142d5f                    Burgundy, France   \n",
       "8aee614456e63150        Languedoc-Roussillon, France   \n",
       "b86046fc346196ea            Pays de la Loire, France   \n",
       "807d76bc84f359c7                      Centre, France   \n",
       "771dd147cda1a16a                 Rhône-Alpes, France   \n",
       "8e73e1421b45f5e8                   Aquitaine, France   \n",
       "829cf2c4a7c5251d               Midi-Pyrénées, France   \n",
       "f3bfc7dcc928977f                              France   \n",
       "\n",
       "                                        name place_type  \\\n",
       "place_id                                                  \n",
       "3da6b5ad7b0af478  Provence-Alpes-Côte d'Azur      admin   \n",
       "8e0da10618d1836b           Champagne-Ardenne      admin   \n",
       "60c859887b142d5f                    Burgundy      admin   \n",
       "8aee614456e63150        Languedoc-Roussillon      admin   \n",
       "b86046fc346196ea            Pays de la Loire      admin   \n",
       "807d76bc84f359c7                      Centre      admin   \n",
       "771dd147cda1a16a                 Rhône-Alpes      admin   \n",
       "8e73e1421b45f5e8                   Aquitaine      admin   \n",
       "829cf2c4a7c5251d               Midi-Pyrénées      admin   \n",
       "f3bfc7dcc928977f                      France    country   \n",
       "\n",
       "                                                                url   min_lon  \\\n",
       "place_id                                                                        \n",
       "3da6b5ad7b0af478  https://api.twitter.com/1.1/geo/id/3da6b5ad7b0...  4.227197   \n",
       "8e0da10618d1836b  https://api.twitter.com/1.1/geo/id/8e0da10618d...  3.383476   \n",
       "60c859887b142d5f  https://api.twitter.com/1.1/geo/id/60c859887b1...  2.844774   \n",
       "8aee614456e63150  https://api.twitter.com/1.1/geo/id/8aee614456e...  1.688810   \n",
       "b86046fc346196ea  https://api.twitter.com/1.1/geo/id/b86046fc346... -2.559194   \n",
       "807d76bc84f359c7  https://api.twitter.com/1.1/geo/id/807d76bc84f...  0.052323   \n",
       "771dd147cda1a16a  https://api.twitter.com/1.1/geo/id/771dd147cda...  3.688350   \n",
       "8e73e1421b45f5e8  https://api.twitter.com/1.1/geo/id/8e73e1421b4... -1.793003   \n",
       "829cf2c4a7c5251d  https://api.twitter.com/1.1/geo/id/829cf2c4a7c... -0.327343   \n",
       "f3bfc7dcc928977f  https://api.twitter.com/1.1/geo/id/f3bfc7dcc92... -5.141593   \n",
       "\n",
       "                    min_lat   max_lon    max_lat  \\\n",
       "place_id                                           \n",
       "3da6b5ad7b0af478  42.982218  7.719208  45.126494   \n",
       "8e0da10618d1836b  47.576559  5.890715  50.169192   \n",
       "60c859887b142d5f  46.156060  5.518937  48.400155   \n",
       "8aee614456e63150  42.332962  4.845444  44.975842   \n",
       "b86046fc346196ea  46.266641  0.916493  48.568090   \n",
       "807d76bc84f359c7  46.347028  3.128597  48.941078   \n",
       "771dd147cda1a16a  44.115377  7.185481  46.519823   \n",
       "8e73e1421b45f5e8  42.777744  1.448288  45.714572   \n",
       "829cf2c4a7c5251d  42.571641  3.451728  45.046506   \n",
       "f3bfc7dcc928977f  41.364659  9.559831  51.088771   \n",
       "\n",
       "                                                           geometry  \\\n",
       "place_id                                                              \n",
       "3da6b5ad7b0af478  POLYGON ((800182.927 6209984.989, 796480.132 6...   \n",
       "8e0da10618d1836b  POLYGON ((728827.854 6719645.871, 727427.663 7...   \n",
       "60c859887b142d5f  POLYGON ((688020.679 6561816.198, 688510.740 6...   \n",
       "8aee614456e63150  POLYGON ((591761.776 6137890.214, 596639.244 6...   \n",
       "b86046fc346196ea  POLYGON ((272195.882 6589150.186, 290181.570 6...   \n",
       "807d76bc84f359c7  POLYGON ((473361.857 6587242.507, 484118.729 6...   \n",
       "771dd147cda1a16a  POLYGON ((755097.483 6335392.677, 752769.531 6...   \n",
       "8e73e1421b45f5e8  POLYGON ((307565.595 6198382.192, 327360.296 6...   \n",
       "829cf2c4a7c5251d  POLYGON ((426516.351 6169307.329, 438102.624 6...   \n",
       "f3bfc7dcc928977f  POLYGON ((17979.184 6064387.353, 129257.794 71...   \n",
       "\n",
       "                          area  \n",
       "place_id                        \n",
       "3da6b5ad7b0af478  4.759828e+10  \n",
       "8e0da10618d1836b  4.760856e+10  \n",
       "60c859887b142d5f  5.038540e+10  \n",
       "8aee614456e63150  5.694997e+10  \n",
       "b86046fc346196ea  6.136322e+10  \n",
       "807d76bc84f359c7  6.655277e+10  \n",
       "771dd147cda1a16a  6.676023e+10  \n",
       "8e73e1421b45f5e8  6.991998e+10  \n",
       "829cf2c4a7c5251d  7.859051e+10  \n",
       "f3bfc7dcc928977f  5.481221e+11  "
      ]
     },
     "execution_count": 11,
     "metadata": {},
     "output_type": "execute_result"
    }
   ],
   "source": [
    "places_geodf.sort_values(by='area').tail(10)"
   ]
  },
  {
   "cell_type": "code",
   "execution_count": 40,
   "id": "cb9cfd95",
   "metadata": {},
   "outputs": [],
   "source": [
    "for i, df_access in enumerate(data_access.yield_tweets_access(tweets_files_paths[0], size=1e9)):\n",
    "    df = data_access.read_json_wrapper(df_access)\n",
    "    break"
   ]
  },
  {
   "cell_type": "markdown",
   "id": "b39582b0",
   "metadata": {},
   "source": [
    "ID English/Hindi code switching:"
   ]
  },
  {
   "cell_type": "code",
   "execution_count": 42,
   "id": "1912a9b6",
   "metadata": {},
   "outputs": [
    {
     "data": {
      "text/plain": [
       "array([], dtype=object)"
      ]
     },
     "execution_count": 42,
     "metadata": {},
     "output_type": "execute_result"
    }
   ],
   "source": [
    "df.loc[(df['lang'] == 'en') & (df['text'].str.contains(r'\\bbhi\\b')), 'text'].values"
   ]
  },
  {
   "cell_type": "markdown",
   "id": "59a42a84",
   "metadata": {},
   "source": [
    "ZA Swahili/English code switching:"
   ]
  },
  {
   "cell_type": "code",
   "execution_count": 20,
   "id": "58b13362",
   "metadata": {},
   "outputs": [
    {
     "data": {
      "text/plain": [
       "array(['@0fe92a4e48a75713cdc4e60c28d0b0256af1f56d537dc7765ff40a19fe6a5eb246325a3a8a5447fd69eb77464c3bfe89fcc24c7e2a525ff904a554aef47ac74b see your life?? Amanga nje into yakho Smh',\n",
       "       '@754d20fa496f3d263716d2332b35c46dc405f0f25652435a8a87d6bcf945b8f47582771a6bc852d1875dc98e4e6fa38310044cc2f48e81333b255d9b17bed3a0 its boring, its a hot normal day nje and what about urs?#HashmanAsks',\n",
       "       \"@f4d33e2f4415323a3863082434db72a98de2dfbbf01b49d6d3a7b0960c034c337152a443dd4356713520fc7ce78c5fff6a732c2ef9f48b177ad8da7bd24670c2 it's irritating... they just wanna empty our pockets really nje...\",\n",
       "       ...,\n",
       "       'Why are the Americans still there??!!why dont they just walk away nje?',\n",
       "       'Was just taking a walk nje..  #SomewhereOnEarth @ Constitution Hill (South Africa) https://t.co/7lHcv2ESG9',\n",
       "       \"Kune ndlela e right yokukhuza ingane ngeswazi.. Remember: you not fighting, you don't beat them, spanky spanky nje @e2e004b4d07755a06a638b0a3866fdb4d6e5aeaedc05d95bf2439097762f7fe9d34fdbce06bff3bfc2cd8dce3edf09e3f8ae5135f3417a89dc70dc7a8bf3fee7\"],\n",
       "      dtype=object)"
      ]
     },
     "execution_count": 20,
     "metadata": {},
     "output_type": "execute_result"
    }
   ],
   "source": [
    "df.loc[(df['lang'] == 'en') & (df['text'].str.contains(r'\\bnje\\b')), 'text'].values"
   ]
  },
  {
   "cell_type": "code",
   "execution_count": 34,
   "id": "f03d1f3b",
   "metadata": {},
   "outputs": [
    {
     "data": {
      "text/plain": [
       "(850370, 13)"
      ]
     },
     "execution_count": 34,
     "metadata": {},
     "output_type": "execute_result"
    }
   ],
   "source": [
    "df.shape"
   ]
  },
  {
   "cell_type": "code",
   "execution_count": 12,
   "id": "de77b097",
   "metadata": {},
   "outputs": [
    {
     "data": {
      "text/plain": [
       "(488413, 26)"
      ]
     },
     "execution_count": 12,
     "metadata": {},
     "output_type": "execute_result"
    }
   ],
   "source": [
    "df.join(places_geodf.loc[places_geodf['area'] < 1e10], on='place_id', how='inner').shape"
   ]
  },
  {
   "cell_type": "code",
   "execution_count": 44,
   "id": "eccb0ea1",
   "metadata": {},
   "outputs": [
    {
     "data": {
      "text/plain": [
       "<AxesSubplot:>"
      ]
     },
     "execution_count": 44,
     "metadata": {},
     "output_type": "execute_result"
    },
    {
     "data": {
      "image/png": "[encoded data removed]",
      "text/plain": [
       "<Figure size 432x288 with 1 Axes>"
      ]
     },
     "metadata": {
      "needs_background": "light"
     },
     "output_type": "display_data"
    }
   ],
   "source": [
    "fig, ax = plt.subplots(1)\n",
    "shape_geodf.plot(ax=ax, color='none', edgecolor='black')\n",
    "places_in_xy.loc[(places_in_xy['area'] < 1e10) & (places_in_xy['area'] > 5e9)].plot(ax=ax)"
   ]
  },
  {
   "cell_type": "markdown",
   "id": "6bff14e5",
   "metadata": {},
   "source": [
    "# Process tweets"
   ]
  },
  {
   "cell_type": "code",
   "execution_count": 11,
   "id": "eb035562",
   "metadata": {},
   "outputs": [],
   "source": [
    "@ray.remote\n",
    "def remote_chunk_process(df_access, cells_geodf, places_geodf, cells_in_places, lang):\n",
    "    cols = ['text', 'source', 'coordinates', 'lang', 'place_id', 'uid']\n",
    "    tweets_df = data_access.read_json_wrapper(df_access)[cols]\n",
    "    cell_counts = word_counts.get_cell_word_counts(tweets_df, cells_geodf, places_geodf,\n",
    "                                                   cells_in_places, lang)\n",
    "    print('done')\n",
    "    return cell_counts"
   ]
  },
  {
   "cell_type": "code",
   "execution_count": 12,
   "id": "ebe047be",
   "metadata": {
    "tags": []
   },
   "outputs": [],
   "source": [
    "@ray.remote(num_returns=2)\n",
    "def get_places_and_intersect(places_fpath, shape_geodf, cells_geodf,\n",
    "                             xy_proj='epsg:3857', max_place_area=5e9):\n",
    "    places_geodf = data_access.return_json(places_fpath)\n",
    "    # ext_loc = places_fpath.name.find('.json')\n",
    "    # shape_geodf.cc = places_fpath[ext_loc-2: ext_loc]\n",
    "    shape_geodf.cc = re.search(r'([A-Z]{2})', places_fpath.name).groups()[0]\n",
    "    places_geodf = geo.make_places_geodf(places_geodf, shape_geodf, shape_geodf.cc,\n",
    "                                         xy_proj=xy_proj)\n",
    "    max_area_mask = places_geodf['area'] < max_place_area\n",
    "    is_poi = places_geodf['area'] == 0\n",
    "    relevant_bbox = max_area_mask & (~is_poi)\n",
    "    cells_in_places = places_to_cells.get_intersect(\n",
    "        cells_geodf, places_geodf.loc[relevant_bbox])\n",
    "    return places_geodf, cells_in_places"
   ]
  },
  {
   "cell_type": "code",
   "execution_count": null,
   "id": "c59f6352",
   "metadata": {
    "scrolled": true
   },
   "outputs": [],
   "source": [
    "ray.init(num_cpus=num_cpus)\n",
    "cell_counts_refs = []\n",
    "raw_cell_counts_ref = []\n",
    "for tweets_fpath, places_fpath in zip(tweets_files_paths, places_files_paths):\n",
    "    print(tweets_fpath)\n",
    "    places_geodf, cells_in_places = get_places_and_intersect.remote(\n",
    "        places_fpath, shape_geodf, reg.cells_geodf,\n",
    "        xy_proj=reg.xy_proj, max_place_area=reg.max_place_area)\n",
    "    access_gen = data_access.yield_tweets_access(tweets_fpath, size=1e9)\n",
    "    for i, df_access in enumerate(access_gen):\n",
    "        cell_counts_refs.append(remote_chunk_process.remote(\n",
    "            df_access, reg.cells_geodf, places_geodf, cells_in_places, reg.lang))\n",
    "        ready, not_ready = ray.wait(cell_counts_refs, num_returns=len(cell_counts_refs), timeout=0.)\n",
    "        if len(ready) > 2*num_cpus:\n",
    "            print(f'combining {len(ready)} elements')\n",
    "            comb_list = ray.get(ready) + raw_cell_counts_ref\n",
    "            raw_cell_counts_ref = parallel.fast_combine(\n",
    "                word_counts.combine_cell_counts, comb_list)\n",
    "            for r in ready:\n",
    "                cell_counts_refs.remove(r)\n",
    "\n",
    "        if len(not_ready) > 1.5*num_cpus:\n",
    "            print(f'waiting at iteration {i}, pending jobs: {len(not_ready)}')\n",
    "            _, _ = ray.wait(not_ready, num_returns=1)\n",
    "            print('waited')\n",
    "    # To make it do something while loading large places data\n",
    "    print(f'combining {len(ready)} elements')\n",
    "    comb_list = ray.get(ready) + raw_cell_counts_ref\n",
    "    raw_cell_counts_ref = parallel.fast_combine(\n",
    "        word_counts.combine_cell_counts, comb_list)\n",
    "    for r in ready:\n",
    "        cell_counts_refs.remove(r)"
   ]
  },
  {
   "cell_type": "code",
   "execution_count": null,
   "id": "8dfaf688",
   "metadata": {
    "scrolled": true
   },
   "outputs": [],
   "source": [
    "res = ray.get(cell_counts_refs)"
   ]
  },
  {
   "cell_type": "code",
   "execution_count": null,
   "id": "bb0f704f",
   "metadata": {},
   "outputs": [],
   "source": [
    "comb_list = res + raw_cell_counts_ref\n",
    "raw_cell_counts_ref = parallel.fast_combine(word_counts.combine_cell_counts, comb_list)"
   ]
  },
  {
   "cell_type": "code",
   "execution_count": 18,
   "id": "c7e936c3",
   "metadata": {},
   "outputs": [
    {
     "data": {
      "text/html": [
       "<div>\n",
       "<style scoped>\n",
       "    .dataframe tbody tr th:only-of-type {\n",
       "        vertical-align: middle;\n",
       "    }\n",
       "\n",
       "    .dataframe tbody tr th {\n",
       "        vertical-align: top;\n",
       "    }\n",
       "\n",
       "    .dataframe thead th {\n",
       "        text-align: right;\n",
       "    }\n",
       "</style>\n",
       "<table border=\"1\" class=\"dataframe\">\n",
       "  <thead>\n",
       "    <tr style=\"text-align: right;\">\n",
       "      <th></th>\n",
       "      <th></th>\n",
       "      <th>count</th>\n",
       "      <th>ratio</th>\n",
       "    </tr>\n",
       "    <tr>\n",
       "      <th>word</th>\n",
       "      <th>cell_id</th>\n",
       "      <th></th>\n",
       "      <th></th>\n",
       "    </tr>\n",
       "  </thead>\n",
       "  <tbody>\n",
       "    <tr>\n",
       "      <th rowspan=\"5\" valign=\"top\">A</th>\n",
       "      <th>GB.10</th>\n",
       "      <td>1056.246451</td>\n",
       "      <td>1.0</td>\n",
       "    </tr>\n",
       "    <tr>\n",
       "      <th>GB.100</th>\n",
       "      <td>14376.024314</td>\n",
       "      <td>1.0</td>\n",
       "    </tr>\n",
       "    <tr>\n",
       "      <th>GB.101</th>\n",
       "      <td>31576.796396</td>\n",
       "      <td>1.0</td>\n",
       "    </tr>\n",
       "    <tr>\n",
       "      <th>GB.102</th>\n",
       "      <td>7601.272414</td>\n",
       "      <td>1.0</td>\n",
       "    </tr>\n",
       "    <tr>\n",
       "      <th>GB.103</th>\n",
       "      <td>51118.622632</td>\n",
       "      <td>1.0</td>\n",
       "    </tr>\n",
       "  </tbody>\n",
       "</table>\n",
       "</div>"
      ],
      "text/plain": [
       "                     count  ratio\n",
       "word cell_id                     \n",
       "A    GB.10     1056.246451    1.0\n",
       "     GB.100   14376.024314    1.0\n",
       "     GB.101   31576.796396    1.0\n",
       "     GB.102    7601.272414    1.0\n",
       "     GB.103   51118.622632    1.0"
      ]
     },
     "execution_count": 18,
     "metadata": {},
     "output_type": "execute_result"
    }
   ],
   "source": [
    "reg.raw_cell_counts = ray.get(raw_cell_counts_ref)[0]\n",
    "reg.raw_cell_counts.head()"
   ]
  },
  {
   "cell_type": "code",
   "execution_count": 28,
   "id": "3219a3c4",
   "metadata": {},
   "outputs": [],
   "source": [
    "ray.shutdown()"
   ]
  },
  {
   "cell_type": "markdown",
   "id": "229a309c",
   "metadata": {},
   "source": [
    "# Aggregate counts"
   ]
  },
  {
   "cell_type": "code",
   "execution_count": 19,
   "id": "debc52fe",
   "metadata": {},
   "outputs": [
    {
     "data": {
      "text/html": [
       "<div>\n",
       "<style scoped>\n",
       "    .dataframe tbody tr th:only-of-type {\n",
       "        vertical-align: middle;\n",
       "    }\n",
       "\n",
       "    .dataframe tbody tr th {\n",
       "        vertical-align: top;\n",
       "    }\n",
       "\n",
       "    .dataframe thead th {\n",
       "        text-align: right;\n",
       "    }\n",
       "</style>\n",
       "<table border=\"1\" class=\"dataframe\">\n",
       "  <thead>\n",
       "    <tr style=\"text-align: right;\">\n",
       "      <th></th>\n",
       "      <th>count</th>\n",
       "      <th>count_upper</th>\n",
       "      <th>nr_cells</th>\n",
       "    </tr>\n",
       "    <tr>\n",
       "      <th>word</th>\n",
       "      <th></th>\n",
       "      <th></th>\n",
       "      <th></th>\n",
       "    </tr>\n",
       "  </thead>\n",
       "  <tbody>\n",
       "    <tr>\n",
       "      <th>the</th>\n",
       "      <td>141066909</td>\n",
       "      <td>15052211</td>\n",
       "      <td>151.0</td>\n",
       "    </tr>\n",
       "    <tr>\n",
       "      <th>to</th>\n",
       "      <td>105794155</td>\n",
       "      <td>1943593</td>\n",
       "      <td>151.0</td>\n",
       "    </tr>\n",
       "    <tr>\n",
       "      <th>i</th>\n",
       "      <td>105521154</td>\n",
       "      <td>98455049</td>\n",
       "      <td>151.0</td>\n",
       "    </tr>\n",
       "    <tr>\n",
       "      <th>a</th>\n",
       "      <td>99599047</td>\n",
       "      <td>6155437</td>\n",
       "      <td>151.0</td>\n",
       "    </tr>\n",
       "    <tr>\n",
       "      <th>and</th>\n",
       "      <td>67443350</td>\n",
       "      <td>4560940</td>\n",
       "      <td>151.0</td>\n",
       "    </tr>\n",
       "  </tbody>\n",
       "</table>\n",
       "</div>"
      ],
      "text/plain": [
       "          count  count_upper  nr_cells\n",
       "word                                  \n",
       "the   141066909     15052211     151.0\n",
       "to    105794155      1943593     151.0\n",
       "i     105521154     98455049     151.0\n",
       "a      99599047      6155437     151.0\n",
       "and    67443350      4560940     151.0"
      ]
     },
     "execution_count": 19,
     "metadata": {},
     "output_type": "execute_result"
    }
   ],
   "source": [
    "reg.region_counts = word_counts.get_reg_counts(reg.raw_cell_counts)\n",
    "reg.region_counts.head()"
   ]
  },
  {
   "cell_type": "code",
   "execution_count": 22,
   "id": "7f007248",
   "metadata": {},
   "outputs": [
    {
     "data": {
      "text/html": [
       "<div>\n",
       "<style scoped>\n",
       "    .dataframe tbody tr th:only-of-type {\n",
       "        vertical-align: middle;\n",
       "    }\n",
       "\n",
       "    .dataframe tbody tr th {\n",
       "        vertical-align: top;\n",
       "    }\n",
       "\n",
       "    .dataframe thead th {\n",
       "        text-align: right;\n",
       "    }\n",
       "</style>\n",
       "<table border=\"1\" class=\"dataframe\">\n",
       "  <thead>\n",
       "    <tr style=\"text-align: right;\">\n",
       "      <th></th>\n",
       "      <th></th>\n",
       "      <th>count</th>\n",
       "    </tr>\n",
       "    <tr>\n",
       "      <th>word</th>\n",
       "      <th>cell_id</th>\n",
       "      <th></th>\n",
       "    </tr>\n",
       "  </thead>\n",
       "  <tbody>\n",
       "    <tr>\n",
       "      <th rowspan=\"5\" valign=\"top\">a</th>\n",
       "      <th>GB.10</th>\n",
       "      <td>16358.120571</td>\n",
       "    </tr>\n",
       "    <tr>\n",
       "      <th>GB.100</th>\n",
       "      <td>217492.076747</td>\n",
       "    </tr>\n",
       "    <tr>\n",
       "      <th>GB.101</th>\n",
       "      <td>480249.669315</td>\n",
       "    </tr>\n",
       "    <tr>\n",
       "      <th>GB.102</th>\n",
       "      <td>120802.569295</td>\n",
       "    </tr>\n",
       "    <tr>\n",
       "      <th>GB.103</th>\n",
       "      <td>911042.996403</td>\n",
       "    </tr>\n",
       "  </tbody>\n",
       "</table>\n",
       "</div>"
      ],
      "text/plain": [
       "                      count\n",
       "word cell_id               \n",
       "a    GB.10     16358.120571\n",
       "     GB.100   217492.076747\n",
       "     GB.101   480249.669315\n",
       "     GB.102   120802.569295\n",
       "     GB.103   911042.996403"
      ]
     },
     "execution_count": 22,
     "metadata": {},
     "output_type": "execute_result"
    }
   ],
   "source": [
    "reg.raw_cell_counts = word_counts.agg_by_lower(reg.raw_cell_counts)\n",
    "reg.raw_cell_counts.head()"
   ]
  },
  {
   "cell_type": "code",
   "execution_count": 23,
   "id": "751553f8",
   "metadata": {},
   "outputs": [
    {
     "name": "stdout",
     "output_type": "stream",
     "text": [
      "Keeping 144 cells out of 151 with threshold 3.83e+04\n",
      "We had 4315755638 tokens, and filtering brought it down to 3994813793, so we lost 7.44%.\n"
     ]
    }
   ],
   "source": [
    "reg.cell_counts, reg.region_counts = word_counts.filter_cell_counts(\n",
    "    reg.raw_cell_counts, reg.region_counts, \n",
    "    upper_th=upper_th, \n",
    "    min_nr_cells=min_nr_cells)"
   ]
  },
  {
   "cell_type": "code",
   "execution_count": 24,
   "id": "a67dea27",
   "metadata": {},
   "outputs": [
    {
     "data": {
      "text/html": [
       "<div>\n",
       "<style scoped>\n",
       "    .dataframe tbody tr th:only-of-type {\n",
       "        vertical-align: middle;\n",
       "    }\n",
       "\n",
       "    .dataframe tbody tr th {\n",
       "        vertical-align: top;\n",
       "    }\n",
       "\n",
       "    .dataframe thead th {\n",
       "        text-align: right;\n",
       "    }\n",
       "</style>\n",
       "<table border=\"1\" class=\"dataframe\">\n",
       "  <thead>\n",
       "    <tr style=\"text-align: right;\">\n",
       "      <th></th>\n",
       "      <th>count</th>\n",
       "      <th>count_upper</th>\n",
       "      <th>nr_cells</th>\n",
       "      <th>is_proper</th>\n",
       "      <th>nr_cell_mask</th>\n",
       "    </tr>\n",
       "    <tr>\n",
       "      <th>word</th>\n",
       "      <th></th>\n",
       "      <th></th>\n",
       "      <th></th>\n",
       "      <th></th>\n",
       "      <th></th>\n",
       "    </tr>\n",
       "  </thead>\n",
       "  <tbody>\n",
       "    <tr>\n",
       "      <th>the</th>\n",
       "      <td>141066909</td>\n",
       "      <td>15052211</td>\n",
       "      <td>151.0</td>\n",
       "      <td>False</td>\n",
       "      <td>True</td>\n",
       "    </tr>\n",
       "    <tr>\n",
       "      <th>to</th>\n",
       "      <td>105794155</td>\n",
       "      <td>1943593</td>\n",
       "      <td>151.0</td>\n",
       "      <td>False</td>\n",
       "      <td>True</td>\n",
       "    </tr>\n",
       "    <tr>\n",
       "      <th>i</th>\n",
       "      <td>105521154</td>\n",
       "      <td>98455049</td>\n",
       "      <td>151.0</td>\n",
       "      <td>True</td>\n",
       "      <td>True</td>\n",
       "    </tr>\n",
       "    <tr>\n",
       "      <th>a</th>\n",
       "      <td>99599047</td>\n",
       "      <td>6155437</td>\n",
       "      <td>151.0</td>\n",
       "      <td>False</td>\n",
       "      <td>True</td>\n",
       "    </tr>\n",
       "    <tr>\n",
       "      <th>and</th>\n",
       "      <td>67443350</td>\n",
       "      <td>4560940</td>\n",
       "      <td>151.0</td>\n",
       "      <td>False</td>\n",
       "      <td>True</td>\n",
       "    </tr>\n",
       "  </tbody>\n",
       "</table>\n",
       "</div>"
      ],
      "text/plain": [
       "          count  count_upper  nr_cells  is_proper  nr_cell_mask\n",
       "word                                                           \n",
       "the   141066909     15052211     151.0      False          True\n",
       "to    105794155      1943593     151.0      False          True\n",
       "i     105521154     98455049     151.0       True          True\n",
       "a      99599047      6155437     151.0      False          True\n",
       "and    67443350      4560940     151.0      False          True"
      ]
     },
     "execution_count": 24,
     "metadata": {},
     "output_type": "execute_result"
    }
   ],
   "source": [
    "reg.region_counts.head()"
   ]
  },
  {
   "cell_type": "code",
   "execution_count": 26,
   "id": "2675e14a",
   "metadata": {},
   "outputs": [],
   "source": [
    "reg.region_counts.to_parquet(str(paths.counts_files_fmt).format(kind='region_counts', lc=reg.lc, cc=reg.cc), index=True)"
   ]
  },
  {
   "cell_type": "code",
   "execution_count": 74,
   "id": "9edd5e38",
   "metadata": {},
   "outputs": [],
   "source": [
    "cc = 'US'\n",
    "cnty_fname = 'cb_2018_us_county_5m'\n",
    "state_fname = 'cb_2018_us_state_5m'\n",
    "countries_dict['US']['cells_geodf'] = us_data.get_counties_geodf(\n",
    "        cnty_fname, state_fname, paths.shp_file_fmt,\n",
    "        xy_proj=countries_dict['US']['xy_proj'])\n",
    "reg = Region.from_dict(cc, 'en', countries_dict[cc])"
   ]
  },
  {
   "cell_type": "code",
   "execution_count": 76,
   "id": "7e5862c5",
   "metadata": {},
   "outputs": [
    {
     "data": {
      "text/plain": [
       "<AxesSubplot:>"
      ]
     },
     "execution_count": 76,
     "metadata": {},
     "output_type": "execute_result"
    },
    {
     "data": {
      "image/png": "[encoded data removed]",
      "text/plain": [
       "<Figure size 432x288 with 1 Axes>"
      ]
     },
     "metadata": {
      "needs_background": "light"
     },
     "output_type": "display_data"
    }
   ],
   "source": [
    "reg.cells_geodf.plot()"
   ]
  },
  {
   "cell_type": "code",
   "execution_count": 25,
   "id": "f57a46a4",
   "metadata": {},
   "outputs": [
    {
     "data": {
      "text/plain": [
       "<AxesSubplot:>"
      ]
     },
     "execution_count": 25,
     "metadata": {},
     "output_type": "execute_result"
    },
    {
     "data": {
      "image/png": "[encoded data removed]",
      "text/plain": [
       "<Figure size 432x288 with 1 Axes>"
      ]
     },
     "metadata": {
      "needs_background": "light"
     },
     "output_type": "display_data"
    }
   ],
   "source": [
    "# cell_counts = pd.read_parquet(str(paths.counts_files_fmt).format('cell_counts', reg.lang, reg.cc))\n",
    "reg.cells_geodf.loc[reg.cell_counts.index.levels[reg.cell_counts.index.names.index('cell_id')]].plot()"
   ]
  },
  {
   "cell_type": "code",
   "execution_count": 27,
   "id": "d72cd6c3",
   "metadata": {},
   "outputs": [],
   "source": [
    "reg.raw_cell_counts.to_parquet(str(paths.counts_files_fmt).format(kind='raw_cell_counts', lc=reg.lc, cc=reg.cc), index=True)\n",
    "reg.cell_counts.to_parquet(str(paths.counts_files_fmt).format(kind='cell_counts', lc=reg.lc, cc=reg.cc), index=True)"
   ]
  },
  {
   "cell_type": "code",
   "execution_count": 60,
   "id": "4ce12cd3",
   "metadata": {},
   "outputs": [],
   "source": [
    "prior_mask = (~region_counts['is_proper']) & region_counts['nr_cell_mask']\n",
    "cdf_mask = (region_counts.loc[prior_mask, 'count'] / region_counts.loc[prior_mask, 'count'].sum()).cumsum() < 0.99\n",
    "mask = (cdf_mask & prior_mask).reindex(prior_mask.index)\n",
    "word_vectors = word_counts.to_vectors(cell_counts, mask)\n",
    "word_vectors = word_counts.vec_to_metric(word_vectors,\n",
    "                                         region_counts.loc[mask],\n",
    "                                         word_vec_var='polar')"
   ]
  },
  {
   "cell_type": "code",
   "execution_count": 61,
   "id": "aeaec637",
   "metadata": {},
   "outputs": [
    {
     "data": {
      "image/png": "[encoded data removed]",
      "text/plain": [
       "<Figure size 432x288 with 1 Axes>"
      ]
     },
     "metadata": {
      "needs_background": "light"
     },
     "output_type": "display_data"
    }
   ],
   "source": [
    "iloc_word = list(mask.loc[mask].index).index('have')\n",
    "fig, ax = plt.subplots(1)\n",
    "_, _, patches = ax.hist(word_vectors[:, iloc_word], bins=20)"
   ]
  },
  {
   "cell_type": "markdown",
   "id": "f81a5441",
   "metadata": {},
   "source": [
    "# Moran"
   ]
  },
  {
   "cell_type": "code",
   "execution_count": 468,
   "id": "91b7e07a",
   "metadata": {},
   "outputs": [],
   "source": [
    "relevant_cells = reg.cell_counts.index.levels[reg.cell_counts.index.names.index('cell_id')]\n",
    "contiguity = libpysal.weights.Queen.from_dataframe(reg.cells_geodf.loc[relevant_cells])\n",
    "contiguity.transform = 'r'"
   ]
  },
  {
   "cell_type": "code",
   "execution_count": 469,
   "id": "656cb988",
   "metadata": {},
   "outputs": [
    {
     "name": "stderr",
     "output_type": "stream",
     "text": [
      "2021-02-26 15:27:45,352\tINFO services.py:1174 -- View the Ray dashboard at \u001b[1m\u001b[32mhttp://127.0.0.1:8266\u001b[39m\u001b[22m\n"
     ]
    }
   ],
   "source": [
    "num_cpus = 4\n",
    "ray.init(num_cpus=num_cpus)\n",
    "num_morans = word_vectors.shape[1]\n",
    "shared_word_vectors = ray.put(word_vectors)\n",
    "obj_refs = parallel.split_task(data_clustering.chunk_moran, num_cpus,\n",
    "                               list(range(num_morans)), shared_word_vectors, contiguity)\n",
    "res = ray.get(obj_refs)\n",
    "moran_dict = res[0]\n",
    "for m_dict in res[1:]:\n",
    "    for key, value in m_dict.items():\n",
    "        moran_dict[key].extend(value)"
   ]
  },
  {
   "cell_type": "code",
   "execution_count": 413,
   "id": "6eb171b6",
   "metadata": {},
   "outputs": [],
   "source": [
    "reg.region_counts = reg.region_counts.join(pd.DataFrame.from_dict(moran_dict).set_index(reg.region_counts.loc[prior_mask].loc[cdf_mask].index[:num_morans]))"
   ]
  },
  {
   "cell_type": "code",
   "execution_count": 503,
   "id": "49e2dd8b",
   "metadata": {
    "tags": []
   },
   "outputs": [
    {
     "data": {
      "text/html": [
       "<div>\n",
       "<style scoped>\n",
       "    .dataframe tbody tr th:only-of-type {\n",
       "        vertical-align: middle;\n",
       "    }\n",
       "\n",
       "    .dataframe tbody tr th {\n",
       "        vertical-align: top;\n",
       "    }\n",
       "\n",
       "    .dataframe thead th {\n",
       "        text-align: right;\n",
       "    }\n",
       "</style>\n",
       "<table border=\"1\" class=\"dataframe\">\n",
       "  <thead>\n",
       "    <tr style=\"text-align: right;\">\n",
       "      <th></th>\n",
       "      <th>count_upper</th>\n",
       "      <th>count</th>\n",
       "      <th>nr_cells</th>\n",
       "      <th>is_proper</th>\n",
       "      <th>nr_cell_mask</th>\n",
       "      <th>I</th>\n",
       "      <th>z_value</th>\n",
       "      <th>p_value</th>\n",
       "    </tr>\n",
       "    <tr>\n",
       "      <th>word</th>\n",
       "      <th></th>\n",
       "      <th></th>\n",
       "      <th></th>\n",
       "      <th></th>\n",
       "      <th></th>\n",
       "      <th></th>\n",
       "      <th></th>\n",
       "      <th></th>\n",
       "    </tr>\n",
       "  </thead>\n",
       "  <tbody>\n",
       "    <tr>\n",
       "      <th>is</th>\n",
       "      <td>24125</td>\n",
       "      <td>437524</td>\n",
       "      <td>46</td>\n",
       "      <td>False</td>\n",
       "      <td>True</td>\n",
       "      <td>0.597490</td>\n",
       "      <td>6.261015</td>\n",
       "      <td>0.001</td>\n",
       "    </tr>\n",
       "    <tr>\n",
       "      <th>with</th>\n",
       "      <td>7623</td>\n",
       "      <td>227245</td>\n",
       "      <td>46</td>\n",
       "      <td>False</td>\n",
       "      <td>True</td>\n",
       "      <td>0.544524</td>\n",
       "      <td>5.616593</td>\n",
       "      <td>0.001</td>\n",
       "    </tr>\n",
       "    <tr>\n",
       "      <th>have</th>\n",
       "      <td>15796</td>\n",
       "      <td>190919</td>\n",
       "      <td>46</td>\n",
       "      <td>False</td>\n",
       "      <td>True</td>\n",
       "      <td>0.564684</td>\n",
       "      <td>5.917284</td>\n",
       "      <td>0.001</td>\n",
       "    </tr>\n",
       "    <tr>\n",
       "      <th>was</th>\n",
       "      <td>9365</td>\n",
       "      <td>186368</td>\n",
       "      <td>45</td>\n",
       "      <td>False</td>\n",
       "      <td>True</td>\n",
       "      <td>0.547882</td>\n",
       "      <td>5.671327</td>\n",
       "      <td>0.001</td>\n",
       "    </tr>\n",
       "    <tr>\n",
       "      <th>are</th>\n",
       "      <td>11073</td>\n",
       "      <td>180833</td>\n",
       "      <td>46</td>\n",
       "      <td>False</td>\n",
       "      <td>True</td>\n",
       "      <td>0.491163</td>\n",
       "      <td>5.135618</td>\n",
       "      <td>0.001</td>\n",
       "    </tr>\n",
       "    <tr>\n",
       "      <th>...</th>\n",
       "      <td>...</td>\n",
       "      <td>...</td>\n",
       "      <td>...</td>\n",
       "      <td>...</td>\n",
       "      <td>...</td>\n",
       "      <td>...</td>\n",
       "      <td>...</td>\n",
       "      <td>...</td>\n",
       "    </tr>\n",
       "    <tr>\n",
       "      <th>vocally</th>\n",
       "      <td>1</td>\n",
       "      <td>21</td>\n",
       "      <td>18</td>\n",
       "      <td>False</td>\n",
       "      <td>True</td>\n",
       "      <td>0.596515</td>\n",
       "      <td>6.514773</td>\n",
       "      <td>0.001</td>\n",
       "    </tr>\n",
       "    <tr>\n",
       "      <th>likeminded</th>\n",
       "      <td>0</td>\n",
       "      <td>21</td>\n",
       "      <td>21</td>\n",
       "      <td>False</td>\n",
       "      <td>True</td>\n",
       "      <td>0.439299</td>\n",
       "      <td>5.122707</td>\n",
       "      <td>0.002</td>\n",
       "    </tr>\n",
       "    <tr>\n",
       "      <th>moaners</th>\n",
       "      <td>1</td>\n",
       "      <td>21</td>\n",
       "      <td>23</td>\n",
       "      <td>False</td>\n",
       "      <td>True</td>\n",
       "      <td>0.456165</td>\n",
       "      <td>5.046692</td>\n",
       "      <td>0.001</td>\n",
       "    </tr>\n",
       "    <tr>\n",
       "      <th>sartorial</th>\n",
       "      <td>1</td>\n",
       "      <td>20</td>\n",
       "      <td>24</td>\n",
       "      <td>False</td>\n",
       "      <td>True</td>\n",
       "      <td>0.482594</td>\n",
       "      <td>5.289926</td>\n",
       "      <td>0.001</td>\n",
       "    </tr>\n",
       "    <tr>\n",
       "      <th>unis</th>\n",
       "      <td>9</td>\n",
       "      <td>20</td>\n",
       "      <td>19</td>\n",
       "      <td>False</td>\n",
       "      <td>True</td>\n",
       "      <td>0.487966</td>\n",
       "      <td>5.349188</td>\n",
       "      <td>0.001</td>\n",
       "    </tr>\n",
       "  </tbody>\n",
       "</table>\n",
       "<p>2977 rows × 8 columns</p>\n",
       "</div>"
      ],
      "text/plain": [
       "            count_upper   count  nr_cells  is_proper  nr_cell_mask         I  \\\n",
       "word                                                                           \n",
       "is                24125  437524        46      False          True  0.597490   \n",
       "with               7623  227245        46      False          True  0.544524   \n",
       "have              15796  190919        46      False          True  0.564684   \n",
       "was                9365  186368        45      False          True  0.547882   \n",
       "are               11073  180833        46      False          True  0.491163   \n",
       "...                 ...     ...       ...        ...           ...       ...   \n",
       "vocally               1      21        18      False          True  0.596515   \n",
       "likeminded            0      21        21      False          True  0.439299   \n",
       "moaners               1      21        23      False          True  0.456165   \n",
       "sartorial             1      20        24      False          True  0.482594   \n",
       "unis                  9      20        19      False          True  0.487966   \n",
       "\n",
       "             z_value  p_value  \n",
       "word                           \n",
       "is          6.261015    0.001  \n",
       "with        5.616593    0.001  \n",
       "have        5.917284    0.001  \n",
       "was         5.671327    0.001  \n",
       "are         5.135618    0.001  \n",
       "...              ...      ...  \n",
       "vocally     6.514773    0.001  \n",
       "likeminded  5.122707    0.002  \n",
       "moaners     5.046692    0.001  \n",
       "sartorial   5.289926    0.001  \n",
       "unis        5.349188    0.001  \n",
       "\n",
       "[2977 rows x 8 columns]"
      ]
     },
     "execution_count": 503,
     "metadata": {},
     "output_type": "execute_result"
    }
   ],
   "source": [
    "reg.region_counts.loc[(reg.region_counts['p_value'] < 0.01) & (reg.region_counts['z_value'] > 5)]"
   ]
  },
  {
   "cell_type": "code",
   "execution_count": 506,
   "id": "ed39cf8a",
   "metadata": {},
   "outputs": [],
   "source": [
    "reg.region_counts.to_parquet(str(paths.counts_files_fmt).format(kind='cell_counts', lc=reg.lang, cc=reg.cc), index=True)"
   ]
  },
  {
   "cell_type": "code",
   "execution_count": null,
   "id": "808a1cc9",
   "metadata": {},
   "outputs": [],
   "source": []
  }
 ],
 "metadata": {
  "kernelspec": {
   "display_name": "Python 3.10.4 ('.venv': venv)",
   "language": "python",
   "name": "python3"
  },
  "language_info": {
   "name": "python",
   "version": "3.10.4"
  },
  "toc-autonumbering": true,
  "vscode": {
   "interpreter": {
    "hash": "7899165bc5a672439646f865cdc3133ed8535c4f601fdfeb9cfb4ed78a09a734"
   }
  }
 },
 "nbformat": 4,
 "nbformat_minor": 5
}
